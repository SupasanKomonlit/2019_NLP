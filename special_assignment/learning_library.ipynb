{
 "cells": [
  {
   "cell_type": "markdown",
   "metadata": {},
   "source": [
    "# Get all file in directory\n",
    "https://www.mkyong.com/python/python-how-to-list-all-files-in-a-directory/"
   ]
  },
  {
   "cell_type": "code",
   "execution_count": 39,
   "metadata": {},
   "outputs": [],
   "source": [
    "import os\n",
    "\n",
    "path = \"/home/zeabus/Documents/supasan/2019_NLP/special_assignment/disease3_withtag\"\n",
    "list_file = []\n",
    "for root , directory , files in os.walk( path ):\n",
    "    for file_path in files:\n",
    "        if '.xml' in file_path:\n",
    "            list_file.append( os.path.join( root , file_path ) )"
   ]
  },
  {
   "cell_type": "markdown",
   "metadata": {},
   "source": [
    "## Function Help print Thai Language"
   ]
  },
  {
   "cell_type": "code",
   "execution_count": 99,
   "metadata": {},
   "outputs": [],
   "source": [
    "def print_member( list_data ):\n",
    "    print( '[' )\n",
    "    limit_range = len( list_data )\n",
    "    for run in range(  0 , limit_range - 1):\n",
    "        print( list_data[ run ] + ',')\n",
    "    print( list_data[ limit_range - 1 ] + ']')"
   ]
  },
  {
   "cell_type": "markdown",
   "metadata": {},
   "source": [
    "# Real xml files"
   ]
  },
  {
   "cell_type": "code",
   "execution_count": 207,
   "metadata": {},
   "outputs": [],
   "source": [
    "# I will focuse on cl for NER and pos\n",
    "# Input ise string don't split line for us\n",
    "def parse_xml( data , default_class_type = 'O' ):\n",
    "    word = \"\"\n",
    "    part_of_speech = None\n",
    "    can_except = False # True when file '\\'\n",
    "    tag_type = None\n",
    "    tag_information = False\n",
    "    class_type = default_class_type\n",
    "    data_return = []\n",
    "    run = 0\n",
    "    while run < len(data):\n",
    "        if data[ run ] == '\\\\' :\n",
    "            can_except = True\n",
    "            \n",
    "        elif data[ run ] == \"<\" and (not can_except): # Mean is in tag\n",
    "            if word != \"\": # clear old data\n",
    "                word = clean_word( word )\n",
    "                data_return.append( summary( word , part_of_speech , class_type ) )\n",
    "                word = \"\"\n",
    "                part_of_speech = None\n",
    "                \n",
    "            if tag_type != None: # Except is sign of tag close\n",
    "                run += 1\n",
    "                if data[ run ] == '/':\n",
    "                    run += 1\n",
    "                    while data[ run ] != '>' : # End tag\n",
    "                        word += data[ run ]\n",
    "                        run += 1\n",
    "                    if tag_type == word :\n",
    "                        tag_type = None\n",
    "                        word = \"\"\n",
    "                        part_of_speech = None\n",
    "                        class_type = default_class_type\n",
    "                    else:\n",
    "                        print(\"Warning! failure parsing xml data don't same tag type\")\n",
    "                        break\n",
    "                else:\n",
    "                    print( \"Warning! failure parsing xml data for complex tag\")\n",
    "                    break\n",
    "            else: # Expect is start tag type\n",
    "                run += 1\n",
    "                tag_type = \"\"\n",
    "                while data[ run ] not in [ '/' , ' ' , '>' ]:\n",
    "                    tag_type += data[ run ]\n",
    "                    run += 1\n",
    "                if data[ run ] == ' ' : # good end\n",
    "                    tag_information = True\n",
    "                elif data[ run ] == '/' and data[ run + 1] == '>':\n",
    "                    run += 1\n",
    "                    tag_type = None\n",
    "                elif data[ run ] == '>':\n",
    "                    None\n",
    "                else:\n",
    "                    print( \"Warning! failure parsing xml data for start tag type\")\n",
    "                    break\n",
    "        elif tag_information : # Now process for get group\n",
    "            if data[ run : run + 4 ] == 'cl=\\\"':\n",
    "                run += 4\n",
    "                class_type = ''\n",
    "                while data[ run ] != '\\\"':\n",
    "                    class_type += data[ run ]\n",
    "                    run += 1\n",
    "            elif data[ run ] == '>':\n",
    "                tag_information = False\n",
    "            else:\n",
    "                None                \n",
    "                        \n",
    "        elif data[ run ] == '/' and (not can_except): # Mean turn POS\n",
    "            if word != \"\": # Sure is POS\n",
    "                part_of_speech = \"\"\n",
    "                run += 1\n",
    "                while data[ run ] not in ['<' , ' ']:\n",
    "                    part_of_speech += data[ run ]\n",
    "                    run += 1\n",
    "                word = clean_word( word )\n",
    "                data_return.append( summary( word , part_of_speech , class_type ) )\n",
    "                word = \"\"\n",
    "                part_of_speech = None\n",
    "                if data[ run ] == '<':\n",
    "                    run -= 1\n",
    "                else:\n",
    "                    None\n",
    "            else:\n",
    "                word += data[ run ]\n",
    "                \n",
    "        else: # Normally get data\n",
    "            can_except = False\n",
    "            word += data[ run ]       \n",
    "        run += 1\n",
    "    return data_return\n",
    "\n",
    "def clean_word( data ):\n",
    "    result = \"\"\n",
    "    for character in data:\n",
    "        if character not in \" \":\n",
    "            result += character\n",
    "    return result\n",
    "\n",
    "def result_parse_xml( datas ):\n",
    "    for data in datas:\n",
    "        print( \"word : {} have pos is {} and class is {}\".format( data['word'] , data['pos'] , data['cl']))\n",
    "        \n",
    "def summary( word , pos , cl ):\n",
    "    return { 'word' : word , 'pos' : pos , 'cl' : cl }"
   ]
  },
  {
   "cell_type": "code",
   "execution_count": 218,
   "metadata": {},
   "outputs": [
    {
     "name": "stdout",
     "output_type": "stream",
     "text": [
      "target file is /home/zeabus/Documents/supasan/2019_NLP/special_assignment/disease3_withtag/42.xml\n"
     ]
    }
   ],
   "source": [
    "target_file = list_file[8]\n",
    "print( \"target file is \" + target_file )\n",
    "data_file = open( target_file )"
   ]
  },
  {
   "cell_type": "code",
   "execution_count": 229,
   "metadata": {},
   "outputs": [
    {
     "name": "stdout",
     "output_type": "stream",
     "text": [
      "[\n",
      "นาย/ntit,\n",
      "<NAME,\n",
      "cl=\"PERSON\",\n",
      "case=\"false\",\n",
      "number=\"one\">อนุทิน/npn,\n",
      "_/blk,\n",
      "ชาญวีรกูล/npn</NAME>,\n",
      "_/blk,\n",
      "<NAME,\n",
      "cl=\"PERSON\",\n",
      "case=\"false\",\n",
      "number=\"one\">รัฐมนตรีช่วยว่าการ/ncn,\n",
      "กระทรวง/ncn,\n",
      "สาธารณสุข/ncn</NAME>,\n",
      "_/blk,\n",
      "แถลง/vt,\n",
      "ที่/prel,\n",
      "จังหวัด/ncn,\n",
      "<NAME,\n",
      "cl=\"LOCATION\">เชียงใหม่/npn</NAME>,\n",
      "ว่า/conjncl,\n",
      "<NAME,\n",
      "cl=\"PERSON\",\n",
      "case=\"true\",\n",
      "number=\"many\">ผู้/pref2,\n",
      "ป่วย/vi</NAME>,\n",
      "<NAME,\n",
      "cl=\"DISEASE\">ไข้หวัดนก/vi,\n",
      "เกือบ/adv,\n",
      "ร้อยทั้งร้อย/idm,\n",
      "</NAME>,\n",
      "มี/vt,\n",
      "ประวัติ/ncn,\n",
      "สัมผัส/vt,\n",
      "<NAME,\n",
      "cl=\"NON_HUMAN\",\n",
      "transmission=\"true\">ไก่/ncn</NAME>,\n",
      ",\n",
      "_/blk,\n",
      "\n",
      "]\n"
     ]
    }
   ],
   "source": [
    "data_line = data_file.readline()\n",
    "print_member( data_line.split( ' ' ) )"
   ]
  },
  {
   "cell_type": "code",
   "execution_count": 230,
   "metadata": {},
   "outputs": [],
   "source": [
    "answer = parse_xml( data_line )"
   ]
  },
  {
   "cell_type": "code",
   "execution_count": 231,
   "metadata": {},
   "outputs": [
    {
     "name": "stdout",
     "output_type": "stream",
     "text": [
      "word : นาย have pos is ntit and class is O\n",
      "word : อนุทิน have pos is npn and class is PERSON\n",
      "word : _ have pos is blk and class is PERSON\n",
      "word : ชาญวีรกูล have pos is npn and class is PERSON\n",
      "word : _ have pos is blk and class is O\n",
      "word : รัฐมนตรีช่วยว่าการ have pos is ncn and class is PERSON\n",
      "word : กระทรวง have pos is ncn and class is PERSON\n",
      "word : สาธารณสุข have pos is ncn and class is PERSON\n",
      "word : _ have pos is blk and class is O\n",
      "word : แถลง have pos is vt and class is O\n",
      "word : ที่ have pos is prel and class is O\n",
      "word : จังหวัด have pos is ncn and class is O\n",
      "word : เชียงใหม่ have pos is npn and class is LOCATION\n",
      "word : ว่า have pos is conjncl and class is O\n",
      "word : ผู้ have pos is pref2 and class is PERSON\n",
      "word : ป่วย have pos is vi and class is PERSON\n",
      "word :  have pos is None and class is O\n",
      "word : ไข้หวัดนก have pos is vi and class is DISEASE\n",
      "word : เกือบ have pos is adv and class is DISEASE\n",
      "word : ร้อยทั้งร้อย have pos is idm and class is DISEASE\n",
      "word : มี have pos is vt and class is O\n",
      "word : ประวัติ have pos is ncn and class is O\n",
      "word : สัมผัส have pos is vt and class is O\n",
      "word : ไก่ have pos is ncn and class is NON_HUMAN\n",
      "word : _ have pos is blk and class is O\n"
     ]
    }
   ],
   "source": [
    "result_parse_xml( answer )"
   ]
  },
  {
   "cell_type": "code",
   "execution_count": null,
   "metadata": {},
   "outputs": [],
   "source": []
  }
 ],
 "metadata": {
  "kernelspec": {
   "display_name": "Python 2",
   "language": "python",
   "name": "python2"
  },
  "language_info": {
   "codemirror_mode": {
    "name": "ipython",
    "version": 2
   },
   "file_extension": ".py",
   "mimetype": "text/x-python",
   "name": "python",
   "nbconvert_exporter": "python",
   "pygments_lexer": "ipython2",
   "version": "2.7.16"
  }
 },
 "nbformat": 4,
 "nbformat_minor": 2
}
