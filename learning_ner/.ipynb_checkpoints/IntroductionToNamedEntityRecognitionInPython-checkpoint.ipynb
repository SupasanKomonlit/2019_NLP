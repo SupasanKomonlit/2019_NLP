{
 "cells": [
  {
   "cell_type": "markdown",
   "metadata": {},
   "source": [
    "This file will follow tutorial \n",
    "https://www.depends-on-the-definition.com/introduction-named-entity-recognition-python/"
   ]
  },
  {
   "cell_type": "code",
   "execution_count": 1,
   "metadata": {},
   "outputs": [],
   "source": [
    "import pandas as pd\n",
    "import numpy as np"
   ]
  },
  {
   "cell_type": "code",
   "execution_count": 2,
   "metadata": {},
   "outputs": [],
   "source": [
    "def read_all_line( directory , file ):\n",
    "    file = open( directory + \"/\" + file , \"r\" , encoding=\"utf-8\" )\n",
    "    contents = file.read()\n",
    "    file.close()\n",
    "    return contents\n",
    "\n",
    "def idividual_read_file( raw_data , split_sentence , count ,remove = [] ):\n",
    "    pre_data_frame = { \"Sentence #\" : [] , \"Word\" : [] , \"Tag\" : [] }\n",
    "    for word in raw_data:\n",
    "        if word in remove :\n",
    "            None\n",
    "        elif word in split_sentence :\n",
    "            count += 1\n",
    "        else: \n",
    "            check = word.find('(')\n",
    "            if check > 0:\n",
    "                pre_data_frame[\"Sentence #\"].append( \"Sentence: \" + str(count) )\n",
    "                pre_data_frame[\"Word\"].append( word[ 0 : word.find('(')] )\n",
    "                pre_data_frame[\"Tag\"].append( word[ word.find('(') + 1 : word.find(')')] )\n",
    "            else:\n",
    "                pre_data_frame[\"Sentence #\"].append( \"Sentence: \" + str(count) )\n",
    "                pre_data_frame[\"Word\"].append( word )\n",
    "                pre_data_frame[\"Tag\"].append( \"O\" )\n",
    "    return pre_data_frame , count\n",
    "\n",
    "def read_file( directory , list_file , count = 1 , individual = False ):\n",
    "    data_frame = pd.DataFrame( { \"Sentence #\" : [] , \"Word\" : [] , \"Tag\" : [] } )\n",
    "    if( individual ):\n",
    "        word = read_all_line( directory , list_file ).split('|')\n",
    "        pre_data_frame , count = idividual_read_file( word , # raw_data\n",
    "                                              [\"\\n\"] , # word show split sentence\n",
    "                                              count , # order of sentence\n",
    "                                              [ \" \" , '' , '\\0'] ) # word to delete or prevent\n",
    "        data_frame  = data_frame.append( pd.DataFrame( pre_data_frame ), ignore_index=True )\n",
    "    else:\n",
    "        for file in list_file :\n",
    "            word = read_all_line( directory , file ).split('|')\n",
    "            pre_data_frame , count = idividual_read_file( word ,\n",
    "                                              [\"\\n\"] ,\n",
    "                                              count ,\n",
    "                                              [ \" \" , '' , '\\0'] )\n",
    "            data_frame  = data_frame.append( pd.DataFrame( pre_data_frame ), ignore_index=True )\n",
    "    return data_frame"
   ]
  },
  {
   "cell_type": "code",
   "execution_count": 3,
   "metadata": {},
   "outputs": [],
   "source": [
    "# Variable for collect name file and access file\n",
    "directory = \"corpus_directory\"\n",
    "train_files = (\"Politic9.txt\" , \"Allcolumn.txt\" , \"98JUL5_1.txt\" ,\n",
    "                \"98JUL5_2.txt\" , \"bkknews1.txt\" , \"Result1.txt\" ,\n",
    "                \"Result2(corpus-1).txt\" , \"Result3(corpus-2).txt\" )\n",
    "test_files = (\"result4.txt\" , \"Result_c_2_1.txt\", \"Result_c_2_2.txt\" )"
   ]
  },
  {
   "cell_type": "raw",
   "metadata": {},
   "source": [
    "ข้างบนทั้งหมด คือการที่เราจะอ่าน text data แล้วได้ข้อมูลออกมาเป็น pandas.DataFrame"
   ]
  },
  {
   "cell_type": "code",
   "execution_count": 4,
   "metadata": {},
   "outputs": [
    {
     "data": {
      "text/html": [
       "<div>\n",
       "<style scoped>\n",
       "    .dataframe tbody tr th:only-of-type {\n",
       "        vertical-align: middle;\n",
       "    }\n",
       "\n",
       "    .dataframe tbody tr th {\n",
       "        vertical-align: top;\n",
       "    }\n",
       "\n",
       "    .dataframe thead th {\n",
       "        text-align: right;\n",
       "    }\n",
       "</style>\n",
       "<table border=\"1\" class=\"dataframe\">\n",
       "  <thead>\n",
       "    <tr style=\"text-align: right;\">\n",
       "      <th></th>\n",
       "      <th>Sentence #</th>\n",
       "      <th>Word</th>\n",
       "      <th>Tag</th>\n",
       "    </tr>\n",
       "  </thead>\n",
       "  <tbody>\n",
       "    <tr>\n",
       "      <td>52212</td>\n",
       "      <td>Sentence: 3762</td>\n",
       "      <td>แห่ง</td>\n",
       "      <td>org_cont</td>\n",
       "    </tr>\n",
       "    <tr>\n",
       "      <td>52213</td>\n",
       "      <td>Sentence: 3762</td>\n",
       "      <td>ชาติ</td>\n",
       "      <td>org_end</td>\n",
       "    </tr>\n",
       "    <tr>\n",
       "      <td>52214</td>\n",
       "      <td>Sentence: 3762</td>\n",
       "      <td>หรือ</td>\n",
       "      <td>O</td>\n",
       "    </tr>\n",
       "    <tr>\n",
       "      <td>52215</td>\n",
       "      <td>Sentence: 3762</td>\n",
       "      <td>ป.ป.ช.</td>\n",
       "      <td>org</td>\n",
       "    </tr>\n",
       "    <tr>\n",
       "      <td>52216</td>\n",
       "      <td>Sentence: 3762</td>\n",
       "      <td>ต้อง</td>\n",
       "      <td>O</td>\n",
       "    </tr>\n",
       "    <tr>\n",
       "      <td>52217</td>\n",
       "      <td>Sentence: 3762</td>\n",
       "      <td>ประกาศ</td>\n",
       "      <td>O</td>\n",
       "    </tr>\n",
       "    <tr>\n",
       "      <td>52218</td>\n",
       "      <td>Sentence: 3762</td>\n",
       "      <td>หลักเกณฑ์</td>\n",
       "      <td>O</td>\n",
       "    </tr>\n",
       "    <tr>\n",
       "      <td>52219</td>\n",
       "      <td>Sentence: 3762</td>\n",
       "      <td>และ</td>\n",
       "      <td>O</td>\n",
       "    </tr>\n",
       "    <tr>\n",
       "      <td>52220</td>\n",
       "      <td>Sentence: 3762</td>\n",
       "      <td>จำนวน</td>\n",
       "      <td>O</td>\n",
       "    </tr>\n",
       "    <tr>\n",
       "      <td>52221</td>\n",
       "      <td>Sentence: 3762</td>\n",
       "      <td>ทรัพย์สิน</td>\n",
       "      <td>O</td>\n",
       "    </tr>\n",
       "  </tbody>\n",
       "</table>\n",
       "</div>"
      ],
      "text/plain": [
       "           Sentence #       Word       Tag\n",
       "52212  Sentence: 3762       แห่ง  org_cont\n",
       "52213  Sentence: 3762       ชาติ   org_end\n",
       "52214  Sentence: 3762       หรือ         O\n",
       "52215  Sentence: 3762     ป.ป.ช.       org\n",
       "52216  Sentence: 3762       ต้อง         O\n",
       "52217  Sentence: 3762     ประกาศ         O\n",
       "52218  Sentence: 3762  หลักเกณฑ์         O\n",
       "52219  Sentence: 3762        และ         O\n",
       "52220  Sentence: 3762      จำนวน         O\n",
       "52221  Sentence: 3762  ทรัพย์สิน         O"
      ]
     },
     "execution_count": 4,
     "metadata": {},
     "output_type": "execute_result"
    }
   ],
   "source": [
    "data = read_file( directory , train_files , 1 )\n",
    "data.fillna( method=\"ffill\")\n",
    "data.tail( 10 )"
   ]
  },
  {
   "cell_type": "raw",
   "metadata": {},
   "source": [
    "เนื่องจาก tag หลากหลายมาก ส่วนเริ่มต้น ส่วนต่อ และส่วนจบ จึงจะจัดการให้เหลือเพียงส่วนเดียว"
   ]
  },
  {
   "cell_type": "code",
   "execution_count": 5,
   "metadata": {},
   "outputs": [],
   "source": [
    "def merge_all_tag( data ):\n",
    "    for run in range(  0 , data.shape[0] ):\n",
    "        if data.Tag[run] in ( '' ):\n",
    "            data.Tag[run] = 'O'\n",
    "        elif data.Tag[run] in ('loc_cont','loc_end','loc_start'):\n",
    "            data.Tag[run] = 'loc'\n",
    "        elif data.Tag[run] in ('org_cont','org_end','org_start'):\n",
    "            data.Tag[run] = 'org'\n",
    "        elif data.Tag[run] in ('per_cont','per_end','per_start'):\n",
    "            data.Tag[run] = 'per'\n",
    "        else:\n",
    "            None"
   ]
  },
  {
   "cell_type": "code",
   "execution_count": 6,
   "metadata": {},
   "outputs": [
    {
     "data": {
      "text/plain": [
       "{'',\n",
       " 'O',\n",
       " 'loc',\n",
       " 'loc_cont',\n",
       " 'loc_end',\n",
       " 'loc_start',\n",
       " 'org',\n",
       " 'org_cont',\n",
       " 'org_end',\n",
       " 'org_start',\n",
       " 'per',\n",
       " 'per_cont',\n",
       " 'per_end',\n",
       " 'per_start'}"
      ]
     },
     "execution_count": 6,
     "metadata": {},
     "output_type": "execute_result"
    }
   ],
   "source": [
    "set( data.Tag)"
   ]
  },
  {
   "cell_type": "code",
   "execution_count": 7,
   "metadata": {},
   "outputs": [],
   "source": [
    "merge_all_tag( data ) "
   ]
  },
  {
   "cell_type": "code",
   "execution_count": 8,
   "metadata": {},
   "outputs": [
    {
     "data": {
      "text/plain": [
       "{'O', 'loc', 'org', 'per'}"
      ]
     },
     "execution_count": 8,
     "metadata": {},
     "output_type": "execute_result"
    }
   ],
   "source": [
    "set( data.Tag )"
   ]
  },
  {
   "cell_type": "code",
   "execution_count": 9,
   "metadata": {},
   "outputs": [],
   "source": [
    "class SentenceGetter(object):\n",
    "    \n",
    "    def __init__(self, data):\n",
    "        self.n_sent = 1\n",
    "        self.data = data\n",
    "        self.empty = False\n",
    "    \n",
    "    def get_next(self):\n",
    "        try:\n",
    "            s = self.data[self.data[\"Sentence #\"] == \"Sentence: {}\".format(self.n_sent)]\n",
    "            self.n_sent += 1\n",
    "            print(s)\n",
    "            return s[\"Word\"].values.tolist(), s[\"Tag\"].values.tolist()   \n",
    "        except:\n",
    "            self.empty = True\n",
    "            return None, None"
   ]
  },
  {
   "cell_type": "code",
   "execution_count": 10,
   "metadata": {},
   "outputs": [],
   "source": [
    "getter = SentenceGetter( data )"
   ]
  },
  {
   "cell_type": "code",
   "execution_count": 11,
   "metadata": {},
   "outputs": [
    {
     "name": "stdout",
     "output_type": "stream",
     "text": [
      "     Sentence #        Word  Tag\n",
      "0   Sentence: 1           \"    O\n",
      "1   Sentence: 1  พลอากาศเอก    O\n",
      "2   Sentence: 1      ทักษิณ  per\n",
      "3   Sentence: 1           \"    O\n",
      "4   Sentence: 1          ขอ    O\n",
      "5   Sentence: 1       โอกาส    O\n",
      "6   Sentence: 1         ให้    O\n",
      "7   Sentence: 1           \"    O\n",
      "8   Sentence: 1     พล.ต.ท.    O\n",
      "9   Sentence: 1        เสรี  per\n",
      "10  Sentence: 1           \"    O\n"
     ]
    }
   ],
   "source": [
    "sent, tag = getter.get_next()"
   ]
  },
  {
   "cell_type": "code",
   "execution_count": 12,
   "metadata": {},
   "outputs": [
    {
     "name": "stdout",
     "output_type": "stream",
     "text": [
      "['\"', 'พลอากาศเอก', 'ทักษิณ', '\"', 'ขอ', 'โอกาส', 'ให้', '\"', 'พล.ต.ท.', 'เสรี', '\"']\n",
      "['O', 'O', 'per', 'O', 'O', 'O', 'O', 'O', 'O', 'per', 'O']\n"
     ]
    }
   ],
   "source": [
    "print(sent);print(tag)"
   ]
  },
  {
   "cell_type": "markdown",
   "metadata": {},
   "source": [
    "ข้างบน จะดึงออกมาทีละประโยค หมายความว่าถ้าคุณต้องการหมด คุณต้องเรียกไปเรื่อย ๆ เลย"
   ]
  },
  {
   "cell_type": "code",
   "execution_count": 13,
   "metadata": {},
   "outputs": [],
   "source": [
    "from sklearn.base import BaseEstimator , TransformerMixin"
   ]
  },
  {
   "cell_type": "code",
   "execution_count": 14,
   "metadata": {},
   "outputs": [],
   "source": [
    "class MemoryTagger(BaseEstimator, TransformerMixin):\n",
    "    \n",
    "    def fit(self, X, y):\n",
    "        '''\n",
    "        Expects a list of words as X and a list of tags as y.\n",
    "        '''\n",
    "        voc = {}\n",
    "        self.tags = []\n",
    "        for x, t in zip(X, y):\n",
    "            if t not in self.tags:\n",
    "                self.tags.append(t)\n",
    "            if x in voc:\n",
    "                if t in voc[x]:\n",
    "                    voc[x][t] += 1\n",
    "                else:\n",
    "                    voc[x][t] = 1\n",
    "            else:\n",
    "                voc[x] = {t: 1}\n",
    "        self.memory = {}\n",
    "        for k, d in voc.items():\n",
    "            self.memory[k] = max(d, key=d.get)\n",
    "    \n",
    "    def predict(self, X, y=None):\n",
    "        '''\n",
    "        Predict the the tag from memory. If word is unknown, predict 'O'.\n",
    "        '''\n",
    "        return [self.memory.get(x, 'O') for x in X]"
   ]
  },
  {
   "cell_type": "code",
   "execution_count": 15,
   "metadata": {},
   "outputs": [],
   "source": [
    "tagger = MemoryTagger()"
   ]
  },
  {
   "cell_type": "code",
   "execution_count": 16,
   "metadata": {},
   "outputs": [],
   "source": [
    "tagger.fit( sent , tag )"
   ]
  },
  {
   "cell_type": "code",
   "execution_count": 17,
   "metadata": {},
   "outputs": [
    {
     "name": "stdout",
     "output_type": "stream",
     "text": [
      "['O', 'O', 'per', 'O', 'O', 'O', 'O', 'O', 'O', 'per', 'O']\n"
     ]
    }
   ],
   "source": [
    "print( tagger.predict( sent ) )"
   ]
  },
  {
   "cell_type": "markdown",
   "metadata": {},
   "source": [
    "ข้างบน จะเริ่มทำการเก็บข้อมูล ในรูปแบบของหน่วยความจำ ถ้ามีคำนี้จะจำว่าโอเคใช้ name entity นี้นะ ถ้าไม่มีในหน่วยความจำจะใช้วิธีให้ว่าเป็น 'O' แทน"
   ]
  },
  {
   "cell_type": "code",
   "execution_count": 19,
   "metadata": {},
   "outputs": [],
   "source": [
    "# ref for first module https://scikit-learn.org/stable/modules/cross_validation.html\n",
    "from sklearn.model_selection import cross_val_predict\n",
    "from sklearn.metrics import classification_report"
   ]
  },
  {
   "cell_type": "code",
   "execution_count": 23,
   "metadata": {},
   "outputs": [
    {
     "name": "stdout",
     "output_type": "stream",
     "text": [
      "     Sentence #          Word  Tag\n",
      "64  Sentence: 3        พ.ต.ท.    O\n",
      "65  Sentence: 3        ทักษิณ  per\n",
      "66  Sentence: 3                per\n",
      "67  Sentence: 3       ชินวัตร  per\n",
      "68  Sentence: 3  นายกรัฐมนตรี    O\n",
      "69  Sentence: 3            ใน    O\n",
      "70  Sentence: 3          ฐานะ    O\n",
      "71  Sentence: 3       หัวหน้า    O\n",
      "72  Sentence: 3          พรรค    O\n",
      "73  Sentence: 3     ไทยรักไทย  org\n",
      "74  Sentence: 3         กล่าว    O\n",
      "75  Sentence: 3         เมื่อ    O\n",
      "76  Sentence: 3        วันที่    O\n",
      "77  Sentence: 3             7    O\n",
      "78  Sentence: 3          พ.ย.    O\n",
      "79  Sentence: 3     ที่ผ่านมา    O\n",
      "80  Sentence: 3           ว่า    O\n",
      "81  Sentence: 3           ไม่    O\n",
      "82  Sentence: 3           น่า    O\n",
      "83  Sentence: 3            มี    O\n",
      "84  Sentence: 3          เป็น    O\n",
      "85  Sentence: 3        เรื่อง    O\n",
      "86  Sentence: 3          ความ    O\n",
      "87  Sentence: 3      เป็นกลาง    O\n"
     ]
    }
   ],
   "source": [
    "test_words , test_tags = getter.get_next()"
   ]
  },
  {
   "cell_type": "code",
   "execution_count": 24,
   "metadata": {},
   "outputs": [],
   "source": [
    "pred = cross_val_predict(estimator=MemoryTagger(), X=test_words, y=test_tags, cv=5)"
   ]
  },
  {
   "cell_type": "code",
   "execution_count": 26,
   "metadata": {},
   "outputs": [
    {
     "name": "stdout",
     "output_type": "stream",
     "text": [
      "              precision    recall  f1-score   support\n",
      "\n",
      "           O       0.83      1.00      0.91        20\n",
      "         org       0.00      0.00      0.00         1\n",
      "         per       0.00      0.00      0.00         3\n",
      "\n",
      "    accuracy                           0.83        24\n",
      "   macro avg       0.28      0.33      0.30        24\n",
      "weighted avg       0.69      0.83      0.76        24\n",
      "\n"
     ]
    }
   ],
   "source": [
    "report = classification_report(y_pred=pred, y_true=test_tags)\n",
    "print( report )"
   ]
  }
 ],
 "metadata": {
  "kernelspec": {
   "display_name": "Python 3",
   "language": "python",
   "name": "python3"
  },
  "language_info": {
   "codemirror_mode": {
    "name": "ipython",
    "version": 3
   },
   "file_extension": ".py",
   "mimetype": "text/x-python",
   "name": "python",
   "nbconvert_exporter": "python",
   "pygments_lexer": "ipython3",
   "version": "3.6.8"
  }
 },
 "nbformat": 4,
 "nbformat_minor": 2
}
