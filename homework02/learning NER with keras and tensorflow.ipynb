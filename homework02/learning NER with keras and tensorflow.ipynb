{
 "cells": [
  {
   "cell_type": "markdown",
   "metadata": {},
   "source": [
    "This file will learn follow reference https://towardsdatascience.com/named-entity-recognition-ner-meeting-industrys-requirement-by-applying-state-of-the-art-deep-698d2b3b4ede"
   ]
  },
  {
   "cell_type": "code",
   "execution_count": 1,
   "metadata": {},
   "outputs": [],
   "source": [
    "def read_all_line( directory , file ):\n",
    "    file = open( directory + \"/\" + file , \"r\" , encoding=\"utf-8\" )\n",
    "    contents = file.read()\n",
    "    return contents"
   ]
  },
  {
   "cell_type": "code",
   "execution_count": 2,
   "metadata": {},
   "outputs": [],
   "source": [
    "def individual_preprocess( raw_data , split_sentence , count ,remove = [] ):\n",
    "    pre_data_frame = { \"Sentence\" : [] , \"Word\" : [] , \"Tag\" : [] }\n",
    "    for word in raw_data:\n",
    "        if word in remove :\n",
    "            None\n",
    "        elif word in split_sentence :\n",
    "            count += 1\n",
    "        else: \n",
    "            check = word.find('(')\n",
    "            if check > 0:\n",
    "                pre_data_frame[\"Sentence\"].append( \"Sentence: \" + str(count) )\n",
    "                pre_data_frame[\"Word\"].append( word[ 0 : word.find('(')] )\n",
    "                pre_data_frame[\"Tag\"].append( word[ word.find('(') + 1 : word.find(')')] )\n",
    "            else:\n",
    "                pre_data_frame[\"Sentence\"].append( \"Sentence: \" + str(count) )\n",
    "                pre_data_frame[\"Word\"].append( word )\n",
    "                pre_data_frame[\"Tag\"].append( \"O\" )\n",
    "    return pre_data_frame , count"
   ]
  },
  {
   "cell_type": "code",
   "execution_count": 3,
   "metadata": {},
   "outputs": [],
   "source": [
    "import pandas as pd\n",
    "def preprocess( directory , list_file , count = 1):\n",
    "    data_frame = pd.DataFrame( { \"Sentence\" : [] , \"Word\" : [] , \"Tag\" : [] } )\n",
    "    for file in list_file :\n",
    "        word = read_all_line( directory , file ).split('|')\n",
    "        pre_data_frame , count = individual_preprocess( word ,\n",
    "                                              [\"\\n\"] ,\n",
    "                                              count ,\n",
    "                                              [ \"\" , '' , '\\0'] )\n",
    "        data_frame  = data_frame.append( pd.DataFrame( pre_data_frame ), ignore_index=True )\n",
    "    return data_frame"
   ]
  },
  {
   "cell_type": "code",
   "execution_count": 4,
   "metadata": {},
   "outputs": [],
   "source": [
    "#directory of corpus\n",
    "corpus_directory = \"corpus_directory\"\n",
    "corpus_file = (\"Politic9.txt\" , \"Allcolumn.txt\")\n",
    "corpus_files = (\"Politic9.txt\" , \"Allcolumn.txt\" , \"98JUL5_1.txt\" ,\n",
    "                \"98JUL5_2.txt\" , \"bkknews1.txt\" , \"Result1.txt\" ,\n",
    "                \"Result2(corpus-1).txt\" , \"Result3(corpus-2).txt\" ,\n",
    "                \"result4.txt\")\n",
    "corpus_test = (\"Result_c_2_1.txt\" , \"Result_c_2_2.txt\")"
   ]
  },
  {
   "cell_type": "code",
   "execution_count": 5,
   "metadata": {},
   "outputs": [
    {
     "name": "stdout",
     "output_type": "stream",
     "text": [
      "Have type of tag is 14 tags from 6966 words\n"
     ]
    }
   ],
   "source": [
    "data_frame = preprocess( corpus_directory , corpus_files )\n",
    "data_frame\n",
    "number_words = len( set( list( data_frame[\"Word\"].values ) ) )\n",
    "number_tags = len( list( set( data_frame[\"Tag\"].values ) ) )\n",
    "print( \"Have type of tag is \" + str( number_tags ) + \n",
    "        \" tags from \" + str(number_words) + \" words\")\n",
    "# print(set( list( data_frame[\"Tag\"].values )))"
   ]
  },
  {
   "cell_type": "code",
   "execution_count": 6,
   "metadata": {},
   "outputs": [
    {
     "data": {
      "text/html": [
       "<div>\n",
       "<style scoped>\n",
       "    .dataframe tbody tr th:only-of-type {\n",
       "        vertical-align: middle;\n",
       "    }\n",
       "\n",
       "    .dataframe tbody tr th {\n",
       "        vertical-align: top;\n",
       "    }\n",
       "\n",
       "    .dataframe thead th {\n",
       "        text-align: right;\n",
       "    }\n",
       "</style>\n",
       "<table border=\"1\" class=\"dataframe\">\n",
       "  <thead>\n",
       "    <tr style=\"text-align: right;\">\n",
       "      <th></th>\n",
       "      <th>Sentence</th>\n",
       "      <th>Word</th>\n",
       "      <th>Tag</th>\n",
       "    </tr>\n",
       "  </thead>\n",
       "  <tbody>\n",
       "    <tr>\n",
       "      <td>0</td>\n",
       "      <td>Sentence: 1</td>\n",
       "      <td>\"</td>\n",
       "      <td>O</td>\n",
       "    </tr>\n",
       "    <tr>\n",
       "      <td>1</td>\n",
       "      <td>Sentence: 1</td>\n",
       "      <td>ทักษิณ</td>\n",
       "      <td>per</td>\n",
       "    </tr>\n",
       "    <tr>\n",
       "      <td>2</td>\n",
       "      <td>Sentence: 1</td>\n",
       "      <td>\"</td>\n",
       "      <td>O</td>\n",
       "    </tr>\n",
       "    <tr>\n",
       "      <td>3</td>\n",
       "      <td>Sentence: 1</td>\n",
       "      <td></td>\n",
       "      <td>O</td>\n",
       "    </tr>\n",
       "    <tr>\n",
       "      <td>4</td>\n",
       "      <td>Sentence: 1</td>\n",
       "      <td>ขอ</td>\n",
       "      <td>O</td>\n",
       "    </tr>\n",
       "    <tr>\n",
       "      <td>...</td>\n",
       "      <td>...</td>\n",
       "      <td>...</td>\n",
       "      <td>...</td>\n",
       "    </tr>\n",
       "    <tr>\n",
       "      <td>67632</td>\n",
       "      <td>Sentence: 4010</td>\n",
       "      <td>แสดง</td>\n",
       "      <td>O</td>\n",
       "    </tr>\n",
       "    <tr>\n",
       "      <td>67633</td>\n",
       "      <td>Sentence: 4010</td>\n",
       "      <td>ความ</td>\n",
       "      <td>O</td>\n",
       "    </tr>\n",
       "    <tr>\n",
       "      <td>67634</td>\n",
       "      <td>Sentence: 4010</td>\n",
       "      <td>รู้สึก</td>\n",
       "      <td>O</td>\n",
       "    </tr>\n",
       "    <tr>\n",
       "      <td>67635</td>\n",
       "      <td>Sentence: 4010</td>\n",
       "      <td>ในทำนองเดียวกัน</td>\n",
       "      <td>O</td>\n",
       "    </tr>\n",
       "    <tr>\n",
       "      <td>67636</td>\n",
       "      <td>Sentence: 4010</td>\n",
       "      <td>นี้</td>\n",
       "      <td>O</td>\n",
       "    </tr>\n",
       "  </tbody>\n",
       "</table>\n",
       "<p>67637 rows × 3 columns</p>\n",
       "</div>"
      ],
      "text/plain": [
       "             Sentence             Word  Tag\n",
       "0         Sentence: 1                \"    O\n",
       "1         Sentence: 1           ทักษิณ  per\n",
       "2         Sentence: 1                \"    O\n",
       "3         Sentence: 1                     O\n",
       "4         Sentence: 1               ขอ    O\n",
       "...               ...              ...  ...\n",
       "67632  Sentence: 4010             แสดง    O\n",
       "67633  Sentence: 4010             ความ    O\n",
       "67634  Sentence: 4010           รู้สึก    O\n",
       "67635  Sentence: 4010  ในทำนองเดียวกัน    O\n",
       "67636  Sentence: 4010              นี้    O\n",
       "\n",
       "[67637 rows x 3 columns]"
      ]
     },
     "execution_count": 6,
     "metadata": {},
     "output_type": "execute_result"
    }
   ],
   "source": [
    "data_frame"
   ]
  },
  {
   "cell_type": "markdown",
   "metadata": {},
   "source": [
    "Follow https://towardsdatascience.com/named-entity-recognition-and-classification-with-scikit-learn-f05372f07ba2"
   ]
  },
  {
   "cell_type": "code",
   "execution_count": 7,
   "metadata": {},
   "outputs": [
    {
     "data": {
      "text/plain": [
       "(4010, 6966, 14)"
      ]
     },
     "execution_count": 7,
     "metadata": {},
     "output_type": "execute_result"
    }
   ],
   "source": [
    "data_frame = data_frame.fillna(method='ffill')\n",
    "data_frame['Sentence'].nunique(), data_frame.Word.nunique(), data_frame.Tag.nunique()"
   ]
  },
  {
   "cell_type": "code",
   "execution_count": 8,
   "metadata": {},
   "outputs": [
    {
     "data": {
      "text/html": [
       "<div>\n",
       "<style scoped>\n",
       "    .dataframe tbody tr th:only-of-type {\n",
       "        vertical-align: middle;\n",
       "    }\n",
       "\n",
       "    .dataframe tbody tr th {\n",
       "        vertical-align: top;\n",
       "    }\n",
       "\n",
       "    .dataframe thead th {\n",
       "        text-align: right;\n",
       "    }\n",
       "</style>\n",
       "<table border=\"1\" class=\"dataframe\">\n",
       "  <thead>\n",
       "    <tr style=\"text-align: right;\">\n",
       "      <th></th>\n",
       "      <th>Tag</th>\n",
       "      <th>counts</th>\n",
       "    </tr>\n",
       "  </thead>\n",
       "  <tbody>\n",
       "    <tr>\n",
       "      <td>0</td>\n",
       "      <td></td>\n",
       "      <td>21</td>\n",
       "    </tr>\n",
       "    <tr>\n",
       "      <td>1</td>\n",
       "      <td>O</td>\n",
       "      <td>56284</td>\n",
       "    </tr>\n",
       "    <tr>\n",
       "      <td>2</td>\n",
       "      <td>loc</td>\n",
       "      <td>2077</td>\n",
       "    </tr>\n",
       "    <tr>\n",
       "      <td>3</td>\n",
       "      <td>loc_cont</td>\n",
       "      <td>39</td>\n",
       "    </tr>\n",
       "    <tr>\n",
       "      <td>4</td>\n",
       "      <td>loc_end</td>\n",
       "      <td>120</td>\n",
       "    </tr>\n",
       "    <tr>\n",
       "      <td>5</td>\n",
       "      <td>loc_start</td>\n",
       "      <td>120</td>\n",
       "    </tr>\n",
       "    <tr>\n",
       "      <td>6</td>\n",
       "      <td>org</td>\n",
       "      <td>2242</td>\n",
       "    </tr>\n",
       "    <tr>\n",
       "      <td>7</td>\n",
       "      <td>org_cont</td>\n",
       "      <td>1721</td>\n",
       "    </tr>\n",
       "    <tr>\n",
       "      <td>8</td>\n",
       "      <td>org_end</td>\n",
       "      <td>1020</td>\n",
       "    </tr>\n",
       "    <tr>\n",
       "      <td>9</td>\n",
       "      <td>org_start</td>\n",
       "      <td>1032</td>\n",
       "    </tr>\n",
       "    <tr>\n",
       "      <td>10</td>\n",
       "      <td>per</td>\n",
       "      <td>531</td>\n",
       "    </tr>\n",
       "    <tr>\n",
       "      <td>11</td>\n",
       "      <td>per_cont</td>\n",
       "      <td>850</td>\n",
       "    </tr>\n",
       "    <tr>\n",
       "      <td>12</td>\n",
       "      <td>per_end</td>\n",
       "      <td>790</td>\n",
       "    </tr>\n",
       "    <tr>\n",
       "      <td>13</td>\n",
       "      <td>per_start</td>\n",
       "      <td>790</td>\n",
       "    </tr>\n",
       "  </tbody>\n",
       "</table>\n",
       "</div>"
      ],
      "text/plain": [
       "          Tag  counts\n",
       "0                  21\n",
       "1           O   56284\n",
       "2         loc    2077\n",
       "3    loc_cont      39\n",
       "4     loc_end     120\n",
       "5   loc_start     120\n",
       "6         org    2242\n",
       "7    org_cont    1721\n",
       "8     org_end    1020\n",
       "9   org_start    1032\n",
       "10        per     531\n",
       "11   per_cont     850\n",
       "12    per_end     790\n",
       "13  per_start     790"
      ]
     },
     "execution_count": 8,
     "metadata": {},
     "output_type": "execute_result"
    }
   ],
   "source": [
    "data_frame.groupby('Tag').size().reset_index(name='counts')"
   ]
  },
  {
   "cell_type": "code",
   "execution_count": 9,
   "metadata": {},
   "outputs": [],
   "source": [
    "import numpy as np\n",
    "from sklearn.feature_extraction import DictVectorizer\n",
    "from sklearn.feature_extraction.text import HashingVectorizer\n",
    "from sklearn.linear_model import Perceptron\n",
    "from sklearn.model_selection import train_test_split\n",
    "from sklearn.linear_model import SGDClassifier\n",
    "from sklearn.linear_model import PassiveAggressiveClassifier\n",
    "from sklearn.naive_bayes import MultinomialNB\n",
    "from sklearn.metrics import classification_report"
   ]
  },
  {
   "cell_type": "code",
   "execution_count": 10,
   "metadata": {},
   "outputs": [],
   "source": [
    "X = data_frame.drop('Tag', axis=1)\n",
    "v = DictVectorizer(sparse=False)\n",
    "X = v.fit_transform(X.to_dict('records'))\n",
    "y = data_frame.Tag.values"
   ]
  },
  {
   "cell_type": "code",
   "execution_count": 23,
   "metadata": {},
   "outputs": [
    {
     "data": {
      "text/plain": [
       "array(['O', 'per', 'O', ..., 'O', 'O', 'O'], dtype=object)"
      ]
     },
     "execution_count": 23,
     "metadata": {},
     "output_type": "execute_result"
    }
   ],
   "source": [
    "y"
   ]
  },
  {
   "cell_type": "code",
   "execution_count": 11,
   "metadata": {},
   "outputs": [],
   "source": [
    "classes = np.unique(y)\n",
    "classes = classes.tolist()"
   ]
  },
  {
   "cell_type": "code",
   "execution_count": 12,
   "metadata": {},
   "outputs": [
    {
     "data": {
      "text/plain": [
       "((45316, 10976), (45316,))"
      ]
     },
     "execution_count": 12,
     "metadata": {},
     "output_type": "execute_result"
    }
   ],
   "source": [
    "X_train, X_test, y_train, y_test = train_test_split(X, y, test_size = 0.33, random_state=0)\n",
    "X_train.shape, y_train.shape"
   ]
  },
  {
   "cell_type": "code",
   "execution_count": 13,
   "metadata": {},
   "outputs": [
    {
     "name": "stderr",
     "output_type": "stream",
     "text": [
      "[Parallel(n_jobs=-1)]: Using backend ThreadingBackend with 8 concurrent workers.\n"
     ]
    },
    {
     "name": "stdout",
     "output_type": "stream",
     "text": [
      "-- Epoch 1-- Epoch 1-- Epoch 1\n",
      "-- Epoch 1\n",
      "\n",
      "\n",
      "-- Epoch 1-- Epoch 1\n",
      "-- Epoch 1\n",
      "-- Epoch 1\n",
      "\n",
      "Norm: 12.73, NNZs: 145, Bias: -2.000000, T: 45316, Avg. loss: 0.002670\n",
      "Total training time: 2.02 seconds.\n",
      "-- Epoch 1\n",
      "Norm: 58.97, NNZs: 2052, Bias: -2.000000, T: 45316, Avg. loss: 0.025929Norm: 49.30, NNZs: 1416, Bias: -2.000000, T: 45316, Avg. loss: 0.018823\n",
      "Total training time: 2.14 seconds.\n",
      "\n",
      "Total training time: 2.07 seconds.\n",
      "-- Epoch 1\n",
      "-- Epoch 1\n",
      "Norm: 42.99, NNZs: 1231, Bias: -4.000000, T: 45316, Avg. loss: 0.050997\n",
      "Total training time: 2.22 seconds.\n"
     ]
    },
    {
     "name": "stderr",
     "output_type": "stream",
     "text": [
      "[Parallel(n_jobs=-1)]: Done   3 out of  14 | elapsed:    2.2s remaining:    8.0s\n",
      "[Parallel(n_jobs=-1)]: Done   5 out of  14 | elapsed:    2.3s remaining:    4.2s\n"
     ]
    },
    {
     "name": "stdout",
     "output_type": "stream",
     "text": [
      "-- Epoch 1\n",
      "Norm: 6.93, NNZs: 48, Bias: -3.000000, T: 45316, Avg. loss: 0.001125\n",
      "Total training time: 2.18 seconds.\n",
      "-- Epoch 1\n",
      "Norm: 12.65, NNZs: 154, Bias: -3.000000, T: 45316, Avg. loss: 0.003134\n",
      "Total training time: 2.23 seconds.\n",
      "-- Epoch 1\n",
      "Norm: 6.32, NNZs: 34, Bias: -3.000000, T: 45316, Avg. loss: 0.000552\n",
      "Total training time: 2.37 seconds.\n"
     ]
    },
    {
     "name": "stderr",
     "output_type": "stream",
     "text": [
      "[Parallel(n_jobs=-1)]: Done   7 out of  14 | elapsed:    2.6s remaining:    2.6s\n"
     ]
    },
    {
     "name": "stdout",
     "output_type": "stream",
     "text": [
      "Norm: 112.14, NNZs: 5940, Bias: 1.000000, T: 45316, Avg. loss: 0.162945\n",
      "Total training time: 2.92 seconds.\n",
      "Norm: 40.96, NNZs: 1221, Bias: -2.000000, T: 45316, Avg. loss: 0.025068\n",
      "Total training time: 1.88 seconds.\n",
      "Norm: 38.60, NNZs: 1205, Bias: -2.000000, T: 45316, Avg. loss: 0.015359\n",
      "Total training time: 1.72 seconds.\n",
      "Norm: 30.76, NNZs: 742, Bias: -2.000000, T: 45316, Avg. loss: 0.009710\n",
      "Total training time: 1.87 seconds.\n",
      "Norm: 27.86, NNZs: 648, Bias: -4.000000, T: 45316, Avg. loss: 0.026613\n",
      "Total training time: 1.79 seconds.\n",
      "Norm: 38.60, NNZs: 1178, Bias: -2.000000, T: 45316, Avg. loss: 0.025951\n",
      "Total training time: 1.92 seconds.\n",
      "Norm: 38.70, NNZs: 1180, Bias: -2.000000, T: 45316, Avg. loss: 0.015866\n",
      "Total training time: 1.72 seconds.\n"
     ]
    },
    {
     "name": "stderr",
     "output_type": "stream",
     "text": [
      "[Parallel(n_jobs=-1)]: Done   9 out of  14 | elapsed:    4.0s remaining:    2.2s\n",
      "[Parallel(n_jobs=-1)]: Done  11 out of  14 | elapsed:    4.1s remaining:    1.1s\n",
      "[Parallel(n_jobs=-1)]: Done  14 out of  14 | elapsed:    4.1s finished\n"
     ]
    },
    {
     "data": {
      "text/plain": [
       "Perceptron(alpha=0.0001, class_weight=None, early_stopping=False, eta0=1.0,\n",
       "           fit_intercept=True, max_iter=5, n_iter_no_change=5, n_jobs=-1,\n",
       "           penalty=None, random_state=0, shuffle=True, tol=0.001,\n",
       "           validation_fraction=0.1, verbose=10, warm_start=False)"
      ]
     },
     "execution_count": 13,
     "metadata": {},
     "output_type": "execute_result"
    }
   ],
   "source": [
    "per = Perceptron(verbose=10, n_jobs=-1, max_iter=5)\n",
    "per.partial_fit(X_train, y_train, classes)"
   ]
  },
  {
   "cell_type": "code",
   "execution_count": 14,
   "metadata": {},
   "outputs": [
    {
     "data": {
      "text/plain": [
       "['',\n",
       " 'O',\n",
       " 'loc',\n",
       " 'loc_cont',\n",
       " 'loc_end',\n",
       " 'loc_start',\n",
       " 'org',\n",
       " 'org_cont',\n",
       " 'org_end',\n",
       " 'org_start',\n",
       " 'per',\n",
       " 'per_cont',\n",
       " 'per_end']"
      ]
     },
     "execution_count": 14,
     "metadata": {},
     "output_type": "execute_result"
    }
   ],
   "source": [
    "new_classes = classes.copy()\n",
    "new_classes.pop()\n",
    "new_classes"
   ]
  },
  {
   "cell_type": "code",
   "execution_count": 15,
   "metadata": {},
   "outputs": [
    {
     "name": "stdout",
     "output_type": "stream",
     "text": [
      "              precision    recall  f1-score   support\n",
      "\n",
      "                   0.33      0.17      0.22         6\n",
      "           O       0.90      0.99      0.94     18568\n",
      "         loc       0.86      0.63      0.73       681\n",
      "    loc_cont       0.00      0.00      0.00        14\n",
      "     loc_end       0.00      0.00      0.00        37\n",
      "   loc_start       0.08      0.03      0.04        35\n",
      "         org       0.89      0.54      0.67       751\n",
      "    org_cont       0.65      0.09      0.16       543\n",
      "     org_end       0.35      0.41      0.38       323\n",
      "   org_start       0.40      0.14      0.21       346\n",
      "         per       0.62      0.27      0.38       181\n",
      "    per_cont       0.00      0.00      0.00       303\n",
      "     per_end       0.79      0.17      0.28       260\n",
      "\n",
      "   micro avg       0.88      0.89      0.88     22048\n",
      "   macro avg       0.45      0.27      0.31     22048\n",
      "weighted avg       0.85      0.89      0.86     22048\n",
      "\n"
     ]
    },
    {
     "name": "stderr",
     "output_type": "stream",
     "text": [
      "/home/sevinar/.local/lib/python3.6/site-packages/sklearn/metrics/classification.py:1437: UndefinedMetricWarning: Precision and F-score are ill-defined and being set to 0.0 in labels with no predicted samples.\n",
      "  'precision', 'predicted', average, warn_for)\n"
     ]
    }
   ],
   "source": [
    "print(classification_report(y_pred=per.predict(X_test), y_true=y_test, labels=new_classes))"
   ]
  }
 ],
 "metadata": {
  "kernelspec": {
   "display_name": "Python 3",
   "language": "python",
   "name": "python3"
  },
  "language_info": {
   "codemirror_mode": {
    "name": "ipython",
    "version": 3
   },
   "file_extension": ".py",
   "mimetype": "text/x-python",
   "name": "python",
   "nbconvert_exporter": "python",
   "pygments_lexer": "ipython3",
   "version": "3.6.8"
  }
 },
 "nbformat": 4,
 "nbformat_minor": 2
}
