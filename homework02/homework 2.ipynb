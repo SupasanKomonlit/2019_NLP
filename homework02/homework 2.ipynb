{
 "cells": [
  {
   "cell_type": "markdown",
   "metadata": {},
   "source": [
    "This file will learn follow reference https://towardsdatascience.com/named-entity-recognition-ner-meeting-industrys-requirement-by-applying-state-of-the-art-deep-698d2b3b4ede"
   ]
  },
  {
   "cell_type": "code",
   "execution_count": 1,
   "metadata": {},
   "outputs": [],
   "source": [
    "def read_all_line( directory , file ):\n",
    "    file = open( directory + \"/\" + file , \"r\" , encoding=\"utf-8\" )\n",
    "    contents = file.read()\n",
    "    return contents"
   ]
  },
  {
   "cell_type": "code",
   "execution_count": 2,
   "metadata": {},
   "outputs": [],
   "source": [
    "def individual_preprocess( raw_data , split_sentence , count ,remove = [] ):\n",
    "    pre_data_frame = { \"Sentence\" : [] , \"Word\" : [] , \"Tag\" : [] }\n",
    "    for word in raw_data:\n",
    "        if word in remove :\n",
    "            None\n",
    "        elif word in split_sentence :\n",
    "            count += 1\n",
    "        else: \n",
    "            check = word.find('(')\n",
    "            if check > 0:\n",
    "                pre_data_frame[\"Sentence\"].append( \"Sentence: \" + str(count) )\n",
    "                pre_data_frame[\"Word\"].append( word[ 0 : word.find('(')] )\n",
    "                pre_data_frame[\"Tag\"].append( word[ word.find('(') + 1 : word.find(')')] )\n",
    "            else:\n",
    "                pre_data_frame[\"Sentence\"].append( \"Sentence: \" + str(count) )\n",
    "                pre_data_frame[\"Word\"].append( word )\n",
    "                pre_data_frame[\"Tag\"].append( \"O\" )\n",
    "    return pre_data_frame , count"
   ]
  },
  {
   "cell_type": "code",
   "execution_count": 3,
   "metadata": {},
   "outputs": [],
   "source": [
    "import pandas as pd\n",
    "def preprocess( directory , list_file , count = 1 , individual = False ):\n",
    "    data_frame = pd.DataFrame( { \"Sentence\" : [] , \"Word\" : [] , \"Tag\" : [] } )\n",
    "    if( individual ):\n",
    "        word = read_all_line( directory , list_file ).split('|')\n",
    "        pre_data_frame , count = individual_preprocess( word ,\n",
    "                                              [\"\\n\"] ,\n",
    "                                              count ,\n",
    "                                              [ \"\" , '' , '\\0'] )\n",
    "        data_frame  = data_frame.append( pd.DataFrame( pre_data_frame ), ignore_index=True )\n",
    "    else:\n",
    "        for file in list_file :\n",
    "            word = read_all_line( directory , file ).split('|')\n",
    "            pre_data_frame , count = individual_preprocess( word ,\n",
    "                                              [\"\\n\"] ,\n",
    "                                              count ,\n",
    "                                              [ \"\" , '' , '\\0'] )\n",
    "            data_frame  = data_frame.append( pd.DataFrame( pre_data_frame ), ignore_index=True )\n",
    "    return data_frame"
   ]
  },
  {
   "cell_type": "code",
   "execution_count": 4,
   "metadata": {},
   "outputs": [],
   "source": [
    "#directory of corpus\n",
    "corpus_directory = \"corpus_directory\"\n",
    "corpus_file = (\"Politic9.txt\" , \"Allcolumn.txt\")\n",
    "corpus_files = (\"Politic9.txt\" , \"Allcolumn.txt\" , \"98JUL5_1.txt\" ,\n",
    "                \"98JUL5_2.txt\" , \"bkknews1.txt\" , \"Result1.txt\" ,\n",
    "                \"Result2(corpus-1).txt\" , \"Result3(corpus-2).txt\" ,\n",
    "                \"result4.txt\" )\n",
    "corpus_test = (\"Result_c_2_1.txt\", \"Result_c_2_2.txt\")\n",
    "all_corpus = corpus_files + corpus_test\n",
    "individual = False"
   ]
  },
  {
   "cell_type": "code",
   "execution_count": 5,
   "metadata": {},
   "outputs": [
    {
     "name": "stdout",
     "output_type": "stream",
     "text": [
      "Have type of tag is 14 tags from 6966 words\n"
     ]
    }
   ],
   "source": [
    "data_frame = preprocess( corpus_directory , corpus_files )\n",
    "data_frame\n",
    "number_words = len( set( list( data_frame[\"Word\"].values ) ) )\n",
    "number_tags = len( list( set( data_frame[\"Tag\"].values ) ) )\n",
    "print( \"Have type of tag is \" + str( number_tags ) + \n",
    "        \" tags from \" + str(number_words) + \" words\")\n",
    "# print(set( list( data_frame[\"Tag\"].values )))"
   ]
  },
  {
   "cell_type": "code",
   "execution_count": 6,
   "metadata": {},
   "outputs": [
    {
     "data": {
      "text/html": [
       "<div>\n",
       "<style scoped>\n",
       "    .dataframe tbody tr th:only-of-type {\n",
       "        vertical-align: middle;\n",
       "    }\n",
       "\n",
       "    .dataframe tbody tr th {\n",
       "        vertical-align: top;\n",
       "    }\n",
       "\n",
       "    .dataframe thead th {\n",
       "        text-align: right;\n",
       "    }\n",
       "</style>\n",
       "<table border=\"1\" class=\"dataframe\">\n",
       "  <thead>\n",
       "    <tr style=\"text-align: right;\">\n",
       "      <th></th>\n",
       "      <th>Sentence</th>\n",
       "      <th>Word</th>\n",
       "      <th>Tag</th>\n",
       "    </tr>\n",
       "  </thead>\n",
       "  <tbody>\n",
       "    <tr>\n",
       "      <td>0</td>\n",
       "      <td>Sentence: 1</td>\n",
       "      <td>\"</td>\n",
       "      <td>O</td>\n",
       "    </tr>\n",
       "    <tr>\n",
       "      <td>1</td>\n",
       "      <td>Sentence: 1</td>\n",
       "      <td>ทักษิณ</td>\n",
       "      <td>per</td>\n",
       "    </tr>\n",
       "    <tr>\n",
       "      <td>2</td>\n",
       "      <td>Sentence: 1</td>\n",
       "      <td>\"</td>\n",
       "      <td>O</td>\n",
       "    </tr>\n",
       "    <tr>\n",
       "      <td>3</td>\n",
       "      <td>Sentence: 1</td>\n",
       "      <td></td>\n",
       "      <td>O</td>\n",
       "    </tr>\n",
       "    <tr>\n",
       "      <td>4</td>\n",
       "      <td>Sentence: 1</td>\n",
       "      <td>ขอ</td>\n",
       "      <td>O</td>\n",
       "    </tr>\n",
       "    <tr>\n",
       "      <td>...</td>\n",
       "      <td>...</td>\n",
       "      <td>...</td>\n",
       "      <td>...</td>\n",
       "    </tr>\n",
       "    <tr>\n",
       "      <td>67632</td>\n",
       "      <td>Sentence: 4010</td>\n",
       "      <td>แสดง</td>\n",
       "      <td>O</td>\n",
       "    </tr>\n",
       "    <tr>\n",
       "      <td>67633</td>\n",
       "      <td>Sentence: 4010</td>\n",
       "      <td>ความ</td>\n",
       "      <td>O</td>\n",
       "    </tr>\n",
       "    <tr>\n",
       "      <td>67634</td>\n",
       "      <td>Sentence: 4010</td>\n",
       "      <td>รู้สึก</td>\n",
       "      <td>O</td>\n",
       "    </tr>\n",
       "    <tr>\n",
       "      <td>67635</td>\n",
       "      <td>Sentence: 4010</td>\n",
       "      <td>ในทำนองเดียวกัน</td>\n",
       "      <td>O</td>\n",
       "    </tr>\n",
       "    <tr>\n",
       "      <td>67636</td>\n",
       "      <td>Sentence: 4010</td>\n",
       "      <td>นี้</td>\n",
       "      <td>O</td>\n",
       "    </tr>\n",
       "  </tbody>\n",
       "</table>\n",
       "<p>67637 rows × 3 columns</p>\n",
       "</div>"
      ],
      "text/plain": [
       "             Sentence             Word  Tag\n",
       "0         Sentence: 1                \"    O\n",
       "1         Sentence: 1           ทักษิณ  per\n",
       "2         Sentence: 1                \"    O\n",
       "3         Sentence: 1                     O\n",
       "4         Sentence: 1               ขอ    O\n",
       "...               ...              ...  ...\n",
       "67632  Sentence: 4010             แสดง    O\n",
       "67633  Sentence: 4010             ความ    O\n",
       "67634  Sentence: 4010           รู้สึก    O\n",
       "67635  Sentence: 4010  ในทำนองเดียวกัน    O\n",
       "67636  Sentence: 4010              นี้    O\n",
       "\n",
       "[67637 rows x 3 columns]"
      ]
     },
     "execution_count": 6,
     "metadata": {},
     "output_type": "execute_result"
    }
   ],
   "source": [
    "data_frame"
   ]
  },
  {
   "cell_type": "markdown",
   "metadata": {},
   "source": [
    "Follow https://towardsdatascience.com/named-entity-recognition-and-classification-with-scikit-learn-f05372f07ba2"
   ]
  },
  {
   "cell_type": "code",
   "execution_count": 7,
   "metadata": {},
   "outputs": [
    {
     "data": {
      "text/plain": [
       "(4010, 6966, 14)"
      ]
     },
     "execution_count": 7,
     "metadata": {},
     "output_type": "execute_result"
    }
   ],
   "source": [
    "data_frame['Sentence'].nunique(), data_frame.Word.nunique(), data_frame.Tag.nunique()"
   ]
  },
  {
   "cell_type": "code",
   "execution_count": 8,
   "metadata": {},
   "outputs": [],
   "source": [
    "import numpy as np\n",
    "from sklearn.feature_extraction import DictVectorizer\n",
    "from sklearn.feature_extraction.text import HashingVectorizer\n",
    "from sklearn.linear_model import Perceptron\n",
    "from sklearn.model_selection import train_test_split\n",
    "from sklearn.linear_model import SGDClassifier\n",
    "from sklearn.linear_model import PassiveAggressiveClassifier\n",
    "from sklearn.naive_bayes import MultinomialNB\n",
    "from sklearn.metrics import classification_report"
   ]
  },
  {
   "cell_type": "code",
   "execution_count": 9,
   "metadata": {},
   "outputs": [
    {
     "name": "stdout",
     "output_type": "stream",
     "text": [
      "Number of sentence is 4010\n",
      "Number of word is 6966\n",
      "Number of tag is 14\n"
     ]
    }
   ],
   "source": [
    "data_frame = data_frame.fillna(method='ffill')\n",
    "print( \"Number of sentence is {:d}\".format(data_frame['Sentence'].nunique()) )\n",
    "print( \"Number of word is {:d}\".format( data_frame.Word.nunique() ) )\n",
    "print( \"Number of tag is {:d}\".format( data_frame.Tag.nunique() ) )"
   ]
  },
  {
   "cell_type": "code",
   "execution_count": 10,
   "metadata": {},
   "outputs": [
    {
     "data": {
      "text/html": [
       "<div>\n",
       "<style scoped>\n",
       "    .dataframe tbody tr th:only-of-type {\n",
       "        vertical-align: middle;\n",
       "    }\n",
       "\n",
       "    .dataframe tbody tr th {\n",
       "        vertical-align: top;\n",
       "    }\n",
       "\n",
       "    .dataframe thead th {\n",
       "        text-align: right;\n",
       "    }\n",
       "</style>\n",
       "<table border=\"1\" class=\"dataframe\">\n",
       "  <thead>\n",
       "    <tr style=\"text-align: right;\">\n",
       "      <th></th>\n",
       "      <th>Tag</th>\n",
       "      <th>counts</th>\n",
       "    </tr>\n",
       "  </thead>\n",
       "  <tbody>\n",
       "    <tr>\n",
       "      <td>0</td>\n",
       "      <td></td>\n",
       "      <td>21</td>\n",
       "    </tr>\n",
       "    <tr>\n",
       "      <td>1</td>\n",
       "      <td>O</td>\n",
       "      <td>56284</td>\n",
       "    </tr>\n",
       "    <tr>\n",
       "      <td>2</td>\n",
       "      <td>loc</td>\n",
       "      <td>2077</td>\n",
       "    </tr>\n",
       "    <tr>\n",
       "      <td>3</td>\n",
       "      <td>loc_cont</td>\n",
       "      <td>39</td>\n",
       "    </tr>\n",
       "    <tr>\n",
       "      <td>4</td>\n",
       "      <td>loc_end</td>\n",
       "      <td>120</td>\n",
       "    </tr>\n",
       "    <tr>\n",
       "      <td>5</td>\n",
       "      <td>loc_start</td>\n",
       "      <td>120</td>\n",
       "    </tr>\n",
       "    <tr>\n",
       "      <td>6</td>\n",
       "      <td>org</td>\n",
       "      <td>2242</td>\n",
       "    </tr>\n",
       "    <tr>\n",
       "      <td>7</td>\n",
       "      <td>org_cont</td>\n",
       "      <td>1721</td>\n",
       "    </tr>\n",
       "    <tr>\n",
       "      <td>8</td>\n",
       "      <td>org_end</td>\n",
       "      <td>1020</td>\n",
       "    </tr>\n",
       "    <tr>\n",
       "      <td>9</td>\n",
       "      <td>org_start</td>\n",
       "      <td>1032</td>\n",
       "    </tr>\n",
       "    <tr>\n",
       "      <td>10</td>\n",
       "      <td>per</td>\n",
       "      <td>531</td>\n",
       "    </tr>\n",
       "    <tr>\n",
       "      <td>11</td>\n",
       "      <td>per_cont</td>\n",
       "      <td>850</td>\n",
       "    </tr>\n",
       "    <tr>\n",
       "      <td>12</td>\n",
       "      <td>per_end</td>\n",
       "      <td>790</td>\n",
       "    </tr>\n",
       "    <tr>\n",
       "      <td>13</td>\n",
       "      <td>per_start</td>\n",
       "      <td>790</td>\n",
       "    </tr>\n",
       "  </tbody>\n",
       "</table>\n",
       "</div>"
      ],
      "text/plain": [
       "          Tag  counts\n",
       "0                  21\n",
       "1           O   56284\n",
       "2         loc    2077\n",
       "3    loc_cont      39\n",
       "4     loc_end     120\n",
       "5   loc_start     120\n",
       "6         org    2242\n",
       "7    org_cont    1721\n",
       "8     org_end    1020\n",
       "9   org_start    1032\n",
       "10        per     531\n",
       "11   per_cont     850\n",
       "12    per_end     790\n",
       "13  per_start     790"
      ]
     },
     "execution_count": 10,
     "metadata": {},
     "output_type": "execute_result"
    }
   ],
   "source": [
    "data_frame.groupby('Tag').size().reset_index(name='counts')"
   ]
  },
  {
   "cell_type": "code",
   "execution_count": 11,
   "metadata": {},
   "outputs": [],
   "source": [
    "data_train = data_frame.drop('Tag', axis=1)\n",
    "#vector_handle = DictVectorizer(sparse=False)\n",
    "#data_train = vector_handle.fit_transform( data_train.to_dict('records') )\n",
    "#value_train = data_frame.Tag.values"
   ]
  },
  {
   "cell_type": "raw",
   "metadata": {},
   "source": [
    "# We want to remove label O because is common label don't have benefit to calculate about that"
   ]
  },
  {
   "cell_type": "raw",
   "metadata": {},
   "source": [
    "Now we have linear model Perceptron next we have to prepare data for test"
   ]
  },
  {
   "cell_type": "code",
   "execution_count": 12,
   "metadata": {},
   "outputs": [],
   "source": [
    "test_frame = preprocess( corpus_directory , corpus_test , 1 , individual )\n",
    "#data_test = test_frame.drop('Tag', axis=1)\n",
    "#vector_handle = DictVectorizer(sparse=False)\n",
    "#data_test = vector_handle.fit_transform( data_test.to_dict('records') )\n",
    "#value_test = test_frame.Tag.values"
   ]
  },
  {
   "cell_type": "raw",
   "metadata": {},
   "source": [
    "Next I will test model but we have problem about shape of test and train we must to have same shape of matrix to do machine learning"
   ]
  },
  {
   "cell_type": "code",
   "execution_count": 13,
   "metadata": {},
   "outputs": [
    {
     "data": {
      "text/plain": [
       "(67637, 35746)"
      ]
     },
     "execution_count": 13,
     "metadata": {},
     "output_type": "execute_result"
    }
   ],
   "source": [
    "data_frame.shape[0] , test_frame.shape[0]"
   ]
  },
  {
   "cell_type": "code",
   "execution_count": 14,
   "metadata": {},
   "outputs": [
    {
     "name": "stdout",
     "output_type": "stream",
     "text": [
      "Propotional of test is 0.34576284302061266\n"
     ]
    },
    {
     "data": {
      "text/plain": [
       "['',\n",
       " 'loc',\n",
       " 'loc_cont',\n",
       " 'loc_end',\n",
       " 'loc_start',\n",
       " 'org',\n",
       " 'org_cont',\n",
       " 'org_end',\n",
       " 'org_start',\n",
       " 'per',\n",
       " 'per_cont',\n",
       " 'per_end',\n",
       " 'per_start']"
      ]
     },
     "execution_count": 14,
     "metadata": {},
     "output_type": "execute_result"
    }
   ],
   "source": [
    "all_frame = data_frame.append( test_frame )\n",
    "all_data = all_frame.drop('Tag', axis=1)\n",
    "vector_handle = DictVectorizer(sparse=False)\n",
    "all_data = vector_handle.fit_transform(all_data.to_dict('records'))\n",
    "all_value = all_frame.Tag.values\n",
    "size_of_test = 1.0 * test_frame.shape[0] / all_data.shape[0]\n",
    "print( \"Propotional of test is \" + str( size_of_test ) )\n",
    "\n",
    "classes = np.unique( all_value )\n",
    "classes = classes.tolist()\n",
    "new_classes = classes.copy()\n",
    "new_classes.remove('O')\n",
    "new_classes"
   ]
  },
  {
   "cell_type": "code",
   "execution_count": 15,
   "metadata": {},
   "outputs": [],
   "source": [
    "X_train, X_test, y_train, y_test = train_test_split(all_data, \n",
    "        all_value, \n",
    "        test_size = size_of_test, \n",
    "        shuffle = False )"
   ]
  },
  {
   "cell_type": "code",
   "execution_count": 16,
   "metadata": {},
   "outputs": [
    {
     "name": "stderr",
     "output_type": "stream",
     "text": [
      "[Parallel(n_jobs=-1)]: Using backend ThreadingBackend with 8 concurrent workers.\n"
     ]
    },
    {
     "name": "stdout",
     "output_type": "stream",
     "text": [
      "-- Epoch 1-- Epoch 1\n",
      "-- Epoch 1\n",
      "-- Epoch 1\n",
      "-- Epoch 1\n",
      "\n",
      "-- Epoch 1-- Epoch 1\n",
      "\n",
      "-- Epoch 1\n",
      "Norm: 7.75, NNZs: 54, Bias: -4.000000, T: 67637, Avg. loss: 0.001257\n",
      "Total training time: 10.95 seconds.\n",
      "-- Epoch 1\n",
      "Norm: 68.96, NNZs: 2618, Bias: -2.000000, T: 67637, Avg. loss: 0.024025\n",
      "Total training time: 11.02 seconds.\n",
      "Norm: 15.30, NNZs: 214, Bias: -3.000000, T: 67637, Avg. loss: 0.002972\n",
      "Total training time: 11.05 seconds.\n",
      "-- Epoch 1\n",
      "Norm: 14.49, NNZs: 187, Bias: -2.000000, T: 67637, Avg. loss: 0.002543\n",
      "Total training time: 11.06 seconds.\n",
      "-- Epoch 1-- Epoch 1\n",
      "\n",
      "Norm: 50.58, NNZs: 1550, Bias: -4.000000, T: 67637, Avg. loss: 0.049233\n",
      "Total training time: 11.14 seconds.\n",
      "-- Epoch 1\n"
     ]
    },
    {
     "name": "stderr",
     "output_type": "stream",
     "text": [
      "[Parallel(n_jobs=-1)]: Done   3 out of  14 | elapsed:   11.2s remaining:   41.1s\n",
      "[Parallel(n_jobs=-1)]: Done   5 out of  14 | elapsed:   11.3s remaining:   20.3s\n"
     ]
    },
    {
     "name": "stdout",
     "output_type": "stream",
     "text": [
      "Norm: 56.76, NNZs: 1737, Bias: -2.000000, T: 67637, Avg. loss: 0.017978\n",
      "Total training time: 11.37 seconds.\n",
      "-- Epoch 1\n",
      "Norm: 7.07, NNZs: 41, Bias: -4.000000, T: 67637, Avg. loss: 0.000488\n",
      "Total training time: 11.42 seconds.\n",
      "Norm: 129.34, NNZs: 7097, Bias: 1.000000, T: 67637, Avg. loss: 0.154013\n",
      "Total training time: 11.57 seconds.\n"
     ]
    },
    {
     "name": "stderr",
     "output_type": "stream",
     "text": [
      "[Parallel(n_jobs=-1)]: Done   7 out of  14 | elapsed:   11.6s remaining:   11.6s\n"
     ]
    },
    {
     "name": "stdout",
     "output_type": "stream",
     "text": [
      "Norm: 36.96, NNZs: 1018, Bias: -4.000000, T: 67637, Avg. loss: 0.009255Norm: 46.67, NNZs: 1534, Bias: -4.000000, T: 67637, Avg. loss: 0.024321\n",
      "Total training time: 3.42 seconds.\n",
      "\n",
      "Total training time: 3.32 seconds.\n",
      "Norm: 45.52, NNZs: 1575, Bias: -1.000000, T: 67637, Avg. loss: 0.016012\n",
      "Total training time: 3.09 seconds.\n",
      "Norm: 46.56, NNZs: 1470, Bias: -2.000000, T: 67637, Avg. loss: 0.026568\n",
      "Total training time: 3.45 seconds.\n",
      "Norm: 32.65, NNZs: 849, Bias: -5.000000, T: 67637, Avg. loss: 0.028416Norm: 46.24, NNZs: 1629, Bias: -2.000000, T: 67637, Avg. loss: 0.015125\n",
      "Total training time: 3.40 seconds.\n",
      "Total training time: 3.35 seconds.\n",
      "\n"
     ]
    },
    {
     "name": "stderr",
     "output_type": "stream",
     "text": [
      "[Parallel(n_jobs=-1)]: Done   9 out of  14 | elapsed:   14.6s remaining:    8.1s\n",
      "[Parallel(n_jobs=-1)]: Done  11 out of  14 | elapsed:   14.6s remaining:    4.0s\n",
      "[Parallel(n_jobs=-1)]: Done  14 out of  14 | elapsed:   14.7s finished\n"
     ]
    },
    {
     "data": {
      "text/plain": [
       "Perceptron(alpha=0.0001, class_weight=None, early_stopping=False, eta0=1.0,\n",
       "           fit_intercept=True, max_iter=5, n_iter_no_change=5, n_jobs=-1,\n",
       "           penalty=None, random_state=0, shuffle=True, tol=0.001,\n",
       "           validation_fraction=0.1, verbose=10, warm_start=False)"
      ]
     },
     "execution_count": 16,
     "metadata": {},
     "output_type": "execute_result"
    }
   ],
   "source": [
    "# Use Perceptron\n",
    "per = Perceptron(verbose=10, n_jobs=-1, max_iter=5)\n",
    "per.partial_fit(X_train, y_train, classes)"
   ]
  },
  {
   "cell_type": "code",
   "execution_count": 17,
   "metadata": {},
   "outputs": [
    {
     "name": "stderr",
     "output_type": "stream",
     "text": [
      "/home/sevinar/.local/lib/python3.6/site-packages/sklearn/metrics/classification.py:1437: UndefinedMetricWarning: Precision and F-score are ill-defined and being set to 0.0 in labels with no predicted samples.\n",
      "  'precision', 'predicted', average, warn_for)\n"
     ]
    },
    {
     "name": "stdout",
     "output_type": "stream",
     "text": [
      "              precision    recall  f1-score   support\n",
      "\n",
      "                   0.00      0.00      0.00        12\n",
      "         loc       0.78      0.58      0.67       912\n",
      "    loc_cont       0.00      0.00      0.00        52\n",
      "     loc_end       0.09      0.02      0.03        63\n",
      "   loc_start       0.45      0.40      0.42        63\n",
      "         org       0.79      0.22      0.34       953\n",
      "    org_cont       0.42      0.04      0.07       749\n",
      "     org_end       0.59      0.05      0.08       509\n",
      "   org_start       0.38      0.14      0.20       521\n",
      "         per       0.80      0.01      0.03       299\n",
      "    per_cont       0.00      0.00      0.00       456\n",
      "     per_end       0.55      0.06      0.11       406\n",
      "   per_start       0.21      0.16      0.18       406\n",
      "\n",
      "   micro avg       0.59      0.18      0.28      5401\n",
      "   macro avg       0.39      0.13      0.16      5401\n",
      "weighted avg       0.53      0.18      0.24      5401\n",
      "\n"
     ]
    }
   ],
   "source": [
    "print(classification_report(y_pred=per.predict(X_test), \n",
    "                            y_true=y_test, labels=new_classes))"
   ]
  },
  {
   "cell_type": "code",
   "execution_count": 18,
   "metadata": {},
   "outputs": [
    {
     "data": {
      "text/plain": [
       "PassiveAggressiveClassifier(C=1.0, average=False, class_weight=None,\n",
       "                            early_stopping=False, fit_intercept=True,\n",
       "                            loss='hinge', max_iter=1000, n_iter_no_change=5,\n",
       "                            n_jobs=None, random_state=None, shuffle=True,\n",
       "                            tol=0.001, validation_fraction=0.1, verbose=0,\n",
       "                            warm_start=False)"
      ]
     },
     "execution_count": 18,
     "metadata": {},
     "output_type": "execute_result"
    }
   ],
   "source": [
    "# Use Passive Aggressive Classifier\n",
    "pa =PassiveAggressiveClassifier()\n",
    "pa.partial_fit(X_train, y_train, classes)"
   ]
  },
  {
   "cell_type": "code",
   "execution_count": null,
   "metadata": {},
   "outputs": [],
   "source": [
    "print(classification_report(y_pred=pa.predict(X_test),\n",
    "                            y_true=y_test, labels=new_classes))"
   ]
  },
  {
   "cell_type": "code",
   "execution_count": null,
   "metadata": {},
   "outputs": [],
   "source": [
    "# use naive bayes # NOT WORK\n",
    "nb = MultinomialNB(alpha=0.01)\n",
    "nb.partial_fit(X_train, y_train, classes)"
   ]
  },
  {
   "cell_type": "code",
   "execution_count": null,
   "metadata": {},
   "outputs": [],
   "source": [
    "print(classification_report(y_pred=nb.predict(X_test), \n",
    "                            y_true=y_test, labels = new_classes))"
   ]
  }
 ],
 "metadata": {
  "kernelspec": {
   "display_name": "Python 3",
   "language": "python",
   "name": "python3"
  },
  "language_info": {
   "codemirror_mode": {
    "name": "ipython",
    "version": 3
   },
   "file_extension": ".py",
   "mimetype": "text/x-python",
   "name": "python",
   "nbconvert_exporter": "python",
   "pygments_lexer": "ipython3",
   "version": "3.6.8"
  }
 },
 "nbformat": 4,
 "nbformat_minor": 2
}
