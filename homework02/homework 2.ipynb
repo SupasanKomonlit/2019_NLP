{
 "cells": [
  {
   "cell_type": "markdown",
   "metadata": {},
   "source": [
    "This file will learn follow reference https://towardsdatascience.com/named-entity-recognition-ner-meeting-industrys-requirement-by-applying-state-of-the-art-deep-698d2b3b4ede"
   ]
  },
  {
   "cell_type": "code",
   "execution_count": 1,
   "metadata": {},
   "outputs": [],
   "source": [
    "def read_all_line( directory , file ):\n",
    "    file = open( directory + \"/\" + file , \"r\" , encoding=\"utf-8\" )\n",
    "    contents = file.read()\n",
    "    return contents"
   ]
  },
  {
   "cell_type": "code",
   "execution_count": 2,
   "metadata": {},
   "outputs": [],
   "source": [
    "def individual_preprocess( raw_data , split_sentence , count ,remove = [] ):\n",
    "    pre_data_frame = { \"Sentence\" : [] , \"Word\" : [] , \"Tag\" : [] }\n",
    "    for word in raw_data:\n",
    "        if word in remove :\n",
    "            None\n",
    "        elif word in split_sentence :\n",
    "            count += 1\n",
    "        else: \n",
    "            check = word.find('(')\n",
    "            if check > 0:\n",
    "                pre_data_frame[\"Sentence\"].append( \"Sentence: \" + str(count) )\n",
    "                pre_data_frame[\"Word\"].append( word[ 0 : word.find('(')] )\n",
    "                pre_data_frame[\"Tag\"].append( word[ word.find('(') + 1 : word.find(')')] )\n",
    "            else:\n",
    "                pre_data_frame[\"Sentence\"].append( \"Sentence: \" + str(count) )\n",
    "                pre_data_frame[\"Word\"].append( word )\n",
    "                pre_data_frame[\"Tag\"].append( \"O\" )\n",
    "    return pre_data_frame , count"
   ]
  },
  {
   "cell_type": "code",
   "execution_count": 3,
   "metadata": {},
   "outputs": [],
   "source": [
    "import pandas as pd\n",
    "def preprocess( directory , list_file , count = 1 , individual = False ):\n",
    "    data_frame = pd.DataFrame( { \"Sentence\" : [] , \"Word\" : [] , \"Tag\" : [] } )\n",
    "    if( individual ):\n",
    "        word = read_all_line( directory , list_file ).split('|')\n",
    "        pre_data_frame , count = individual_preprocess( word ,\n",
    "                                              [\"\\n\"] ,\n",
    "                                              count ,\n",
    "                                              [ \"\" , '' , '\\0'] )\n",
    "        data_frame  = data_frame.append( pd.DataFrame( pre_data_frame ), ignore_index=True )\n",
    "    else:\n",
    "        for file in list_file :\n",
    "            word = read_all_line( directory , file ).split('|')\n",
    "            pre_data_frame , count = individual_preprocess( word ,\n",
    "                                              [\"\\n\"] ,\n",
    "                                              count ,\n",
    "                                              [ \"\" , '' , '\\0'] )\n",
    "            data_frame  = data_frame.append( pd.DataFrame( pre_data_frame ), ignore_index=True )\n",
    "    return data_frame"
   ]
  },
  {
   "cell_type": "code",
   "execution_count": 4,
   "metadata": {},
   "outputs": [],
   "source": [
    "#directory of corpus\n",
    "corpus_directory = \"test_in_class\"\n",
    "corpus_files = (\"Politic9.txt\" , \"Allcolumn.txt\" , \"98JUL5_1.txt\" ,\n",
    "                \"98JUL5_2.txt\" , \"bkknews1.txt\" , \"Result1.txt\" ,\n",
    "                \"Result2(corpus-1).txt\" , \"Result3(corpus-2).txt\" ,\n",
    "                \"result4.txt\" , \"Result_c_2_1.txt\", \"Result_c_2_2.txt\" )\n",
    "corpus_test = ( \"POL1108.CUT\" , \"POL1805.CUT\" , \"POL1812.CUT\" ,  \n",
    "                \"POL1819.CUT\" , \"POL2008.CUT\" , \"POL2017.CUT\" ,\n",
    "                \"POL1109.CUT\" , \"POL1806.CUT\" , \"POL1813.CUT\" , \n",
    "                \"POL2001.CUT\" , \"POL2009.CUT\" , \"POL2018.CUT\" ,\n",
    "                \"POL1111.CUT\" , \"POL1807.CUT\" , \"POL1814.CUT\" , \n",
    "                \"POL2002.CUT\" , \"POL2010.CUT\" , \"POL2019.CUT\" ,\n",
    "                \"POL1112.CUT\" , \"POL1808.CUT\" , \"POL1815.CUT\" ,\n",
    "                \"POL2004.CUT\" , \"POL2011.CUT\" , \"POL2020.CUT\" ,\n",
    "                \"POL1113.CUT\" , \"POL1809.CUT\" , \"POL1816.CUT\" ,\n",
    "                \"POL2005.CUT\" , \"POL2012.CUT\" , \"POL1803.CUT\" ,\n",
    "                \"POL1810.CUT\" , \"POL1817.CUT\" , \"POL2006.CUT\" ,\n",
    "                \"POL2014.CUT\" , \"POL1804.CUT\" , \"POL1811.CUT\" ,\n",
    "                \"POL1818.CUT\" , \"POL2007.CUT\" , \"POL2015.CUT\" )\n",
    "all_corpus = corpus_files + corpus_test\n",
    "individual = False"
   ]
  },
  {
   "cell_type": "code",
   "execution_count": 5,
   "metadata": {},
   "outputs": [
    {
     "name": "stdout",
     "output_type": "stream",
     "text": [
      "Have type of tag is 14 tags from 9293 words\n"
     ]
    }
   ],
   "source": [
    "data_frame = preprocess( corpus_directory + \"/train_data\" , corpus_files )\n",
    "data_frame\n",
    "number_words = len( set( list( data_frame[\"Word\"].values ) ) )\n",
    "number_tags = len( list( set( data_frame[\"Tag\"].values ) ) )\n",
    "print( \"Have type of tag is \" + str( number_tags ) + \n",
    "        \" tags from \" + str(number_words) + \" words\")\n",
    "# print(set( list( data_frame[\"Tag\"].values )))"
   ]
  },
  {
   "cell_type": "code",
   "execution_count": 6,
   "metadata": {},
   "outputs": [
    {
     "data": {
      "text/html": [
       "<div>\n",
       "<style scoped>\n",
       "    .dataframe tbody tr th:only-of-type {\n",
       "        vertical-align: middle;\n",
       "    }\n",
       "\n",
       "    .dataframe tbody tr th {\n",
       "        vertical-align: top;\n",
       "    }\n",
       "\n",
       "    .dataframe thead th {\n",
       "        text-align: right;\n",
       "    }\n",
       "</style>\n",
       "<table border=\"1\" class=\"dataframe\">\n",
       "  <thead>\n",
       "    <tr style=\"text-align: right;\">\n",
       "      <th></th>\n",
       "      <th>Sentence</th>\n",
       "      <th>Word</th>\n",
       "      <th>Tag</th>\n",
       "    </tr>\n",
       "  </thead>\n",
       "  <tbody>\n",
       "    <tr>\n",
       "      <td>0</td>\n",
       "      <td>Sentence: 1</td>\n",
       "      <td>\"</td>\n",
       "      <td>O</td>\n",
       "    </tr>\n",
       "    <tr>\n",
       "      <td>1</td>\n",
       "      <td>Sentence: 1</td>\n",
       "      <td>ทักษิณ</td>\n",
       "      <td>per</td>\n",
       "    </tr>\n",
       "    <tr>\n",
       "      <td>2</td>\n",
       "      <td>Sentence: 1</td>\n",
       "      <td>\"</td>\n",
       "      <td>O</td>\n",
       "    </tr>\n",
       "    <tr>\n",
       "      <td>3</td>\n",
       "      <td>Sentence: 1</td>\n",
       "      <td></td>\n",
       "      <td>O</td>\n",
       "    </tr>\n",
       "    <tr>\n",
       "      <td>4</td>\n",
       "      <td>Sentence: 1</td>\n",
       "      <td>ขอ</td>\n",
       "      <td>O</td>\n",
       "    </tr>\n",
       "    <tr>\n",
       "      <td>...</td>\n",
       "      <td>...</td>\n",
       "      <td>...</td>\n",
       "      <td>...</td>\n",
       "    </tr>\n",
       "    <tr>\n",
       "      <td>103378</td>\n",
       "      <td>Sentence: 5824</td>\n",
       "      <td>ทะเล</td>\n",
       "      <td>org_end</td>\n",
       "    </tr>\n",
       "    <tr>\n",
       "      <td>103379</td>\n",
       "      <td>Sentence: 5824</td>\n",
       "      <td></td>\n",
       "      <td>O</td>\n",
       "    </tr>\n",
       "    <tr>\n",
       "      <td>103380</td>\n",
       "      <td>Sentence: 5824</td>\n",
       "      <td>จังหวัด</td>\n",
       "      <td>O</td>\n",
       "    </tr>\n",
       "    <tr>\n",
       "      <td>103381</td>\n",
       "      <td>Sentence: 5824</td>\n",
       "      <td>ภูเก็ต</td>\n",
       "      <td>loc</td>\n",
       "    </tr>\n",
       "    <tr>\n",
       "      <td>103382</td>\n",
       "      <td>Sentence: 5824</td>\n",
       "      <td></td>\n",
       "      <td>O</td>\n",
       "    </tr>\n",
       "  </tbody>\n",
       "</table>\n",
       "<p>103383 rows × 3 columns</p>\n",
       "</div>"
      ],
      "text/plain": [
       "              Sentence     Word      Tag\n",
       "0          Sentence: 1        \"        O\n",
       "1          Sentence: 1   ทักษิณ      per\n",
       "2          Sentence: 1        \"        O\n",
       "3          Sentence: 1                 O\n",
       "4          Sentence: 1       ขอ        O\n",
       "...                ...      ...      ...\n",
       "103378  Sentence: 5824     ทะเล  org_end\n",
       "103379  Sentence: 5824                 O\n",
       "103380  Sentence: 5824  จังหวัด        O\n",
       "103381  Sentence: 5824   ภูเก็ต      loc\n",
       "103382  Sentence: 5824                 O\n",
       "\n",
       "[103383 rows x 3 columns]"
      ]
     },
     "execution_count": 6,
     "metadata": {},
     "output_type": "execute_result"
    }
   ],
   "source": [
    "data_frame"
   ]
  },
  {
   "cell_type": "markdown",
   "metadata": {},
   "source": [
    "Follow https://towardsdatascience.com/named-entity-recognition-and-classification-with-scikit-learn-f05372f07ba2"
   ]
  },
  {
   "cell_type": "code",
   "execution_count": 7,
   "metadata": {},
   "outputs": [
    {
     "data": {
      "text/plain": [
       "(5824, 9293, 14)"
      ]
     },
     "execution_count": 7,
     "metadata": {},
     "output_type": "execute_result"
    }
   ],
   "source": [
    "data_frame['Sentence'].nunique(), data_frame.Word.nunique(), data_frame.Tag.nunique()"
   ]
  },
  {
   "cell_type": "code",
   "execution_count": 8,
   "metadata": {},
   "outputs": [],
   "source": [
    "import numpy as np\n",
    "from sklearn.feature_extraction import DictVectorizer\n",
    "from sklearn.feature_extraction.text import HashingVectorizer\n",
    "from sklearn.linear_model import Perceptron\n",
    "from sklearn.model_selection import train_test_split\n",
    "from sklearn.linear_model import SGDClassifier\n",
    "from sklearn.linear_model import PassiveAggressiveClassifier\n",
    "from sklearn.naive_bayes import MultinomialNB\n",
    "from sklearn.metrics import classification_report"
   ]
  },
  {
   "cell_type": "code",
   "execution_count": 9,
   "metadata": {},
   "outputs": [
    {
     "name": "stdout",
     "output_type": "stream",
     "text": [
      "Number of sentence is 5824\n",
      "Number of word is 9293\n",
      "Number of tag is 14\n"
     ]
    }
   ],
   "source": [
    "data_frame = data_frame.fillna(method='ffill')\n",
    "print( \"Number of sentence is {:d}\".format(data_frame['Sentence'].nunique()) )\n",
    "print( \"Number of word is {:d}\".format( data_frame.Word.nunique() ) )\n",
    "print( \"Number of tag is {:d}\".format( data_frame.Tag.nunique() ) )"
   ]
  },
  {
   "cell_type": "code",
   "execution_count": 10,
   "metadata": {},
   "outputs": [
    {
     "data": {
      "text/html": [
       "<div>\n",
       "<style scoped>\n",
       "    .dataframe tbody tr th:only-of-type {\n",
       "        vertical-align: middle;\n",
       "    }\n",
       "\n",
       "    .dataframe tbody tr th {\n",
       "        vertical-align: top;\n",
       "    }\n",
       "\n",
       "    .dataframe thead th {\n",
       "        text-align: right;\n",
       "    }\n",
       "</style>\n",
       "<table border=\"1\" class=\"dataframe\">\n",
       "  <thead>\n",
       "    <tr style=\"text-align: right;\">\n",
       "      <th></th>\n",
       "      <th>Tag</th>\n",
       "      <th>counts</th>\n",
       "    </tr>\n",
       "  </thead>\n",
       "  <tbody>\n",
       "    <tr>\n",
       "      <td>0</td>\n",
       "      <td></td>\n",
       "      <td>33</td>\n",
       "    </tr>\n",
       "    <tr>\n",
       "      <td>1</td>\n",
       "      <td>O</td>\n",
       "      <td>86629</td>\n",
       "    </tr>\n",
       "    <tr>\n",
       "      <td>2</td>\n",
       "      <td>loc</td>\n",
       "      <td>2989</td>\n",
       "    </tr>\n",
       "    <tr>\n",
       "      <td>3</td>\n",
       "      <td>loc_cont</td>\n",
       "      <td>91</td>\n",
       "    </tr>\n",
       "    <tr>\n",
       "      <td>4</td>\n",
       "      <td>loc_end</td>\n",
       "      <td>183</td>\n",
       "    </tr>\n",
       "    <tr>\n",
       "      <td>5</td>\n",
       "      <td>loc_start</td>\n",
       "      <td>183</td>\n",
       "    </tr>\n",
       "    <tr>\n",
       "      <td>6</td>\n",
       "      <td>org</td>\n",
       "      <td>3195</td>\n",
       "    </tr>\n",
       "    <tr>\n",
       "      <td>7</td>\n",
       "      <td>org_cont</td>\n",
       "      <td>2470</td>\n",
       "    </tr>\n",
       "    <tr>\n",
       "      <td>8</td>\n",
       "      <td>org_end</td>\n",
       "      <td>1529</td>\n",
       "    </tr>\n",
       "    <tr>\n",
       "      <td>9</td>\n",
       "      <td>org_start</td>\n",
       "      <td>1553</td>\n",
       "    </tr>\n",
       "    <tr>\n",
       "      <td>10</td>\n",
       "      <td>per</td>\n",
       "      <td>830</td>\n",
       "    </tr>\n",
       "    <tr>\n",
       "      <td>11</td>\n",
       "      <td>per_cont</td>\n",
       "      <td>1306</td>\n",
       "    </tr>\n",
       "    <tr>\n",
       "      <td>12</td>\n",
       "      <td>per_end</td>\n",
       "      <td>1196</td>\n",
       "    </tr>\n",
       "    <tr>\n",
       "      <td>13</td>\n",
       "      <td>per_start</td>\n",
       "      <td>1196</td>\n",
       "    </tr>\n",
       "  </tbody>\n",
       "</table>\n",
       "</div>"
      ],
      "text/plain": [
       "          Tag  counts\n",
       "0                  33\n",
       "1           O   86629\n",
       "2         loc    2989\n",
       "3    loc_cont      91\n",
       "4     loc_end     183\n",
       "5   loc_start     183\n",
       "6         org    3195\n",
       "7    org_cont    2470\n",
       "8     org_end    1529\n",
       "9   org_start    1553\n",
       "10        per     830\n",
       "11   per_cont    1306\n",
       "12    per_end    1196\n",
       "13  per_start    1196"
      ]
     },
     "execution_count": 10,
     "metadata": {},
     "output_type": "execute_result"
    }
   ],
   "source": [
    "data_frame.groupby('Tag').size().reset_index(name='counts')"
   ]
  },
  {
   "cell_type": "code",
   "execution_count": 11,
   "metadata": {},
   "outputs": [],
   "source": [
    "data_train = data_frame.drop('Tag', axis=1)\n",
    "#vector_handle = DictVectorizer(sparse=False)\n",
    "#data_train = vector_handle.fit_transform( data_train.to_dict('records') )\n",
    "#value_train = data_frame.Tag.values"
   ]
  },
  {
   "cell_type": "raw",
   "metadata": {},
   "source": [
    "# We want to remove label O because is common label don't have benefit to calculate about that"
   ]
  },
  {
   "cell_type": "raw",
   "metadata": {},
   "source": [
    "Now we have linear model Perceptron next we have to prepare data for test"
   ]
  },
  {
   "cell_type": "code",
   "execution_count": 12,
   "metadata": {},
   "outputs": [],
   "source": [
    "test_frame = preprocess( corpus_directory + \"/test_tag\" , corpus_test , 1 , individual )\n",
    "#data_test = test_frame.drop('Tag', axis=1)\n",
    "#vector_handle = DictVectorizer(sparse=False)\n",
    "#data_test = vector_handle.fit_transform( data_test.to_dict('records') )\n",
    "#value_test = test_frame.Tag.values"
   ]
  },
  {
   "cell_type": "raw",
   "metadata": {},
   "source": [
    "Next I will test model but we have problem about shape of test and train we must to have same shape of matrix to do machine learning"
   ]
  },
  {
   "cell_type": "code",
   "execution_count": 13,
   "metadata": {},
   "outputs": [
    {
     "data": {
      "text/plain": [
       "(103383, 16273)"
      ]
     },
     "execution_count": 13,
     "metadata": {},
     "output_type": "execute_result"
    }
   ],
   "source": [
    "data_frame.shape[0] , test_frame.shape[0]"
   ]
  },
  {
   "cell_type": "code",
   "execution_count": 14,
   "metadata": {},
   "outputs": [
    {
     "name": "stdout",
     "output_type": "stream",
     "text": [
      "Propotional of test is 16273\n"
     ]
    },
    {
     "data": {
      "text/plain": [
       "['',\n",
       " 'loc',\n",
       " 'loc_cont',\n",
       " 'loc_end',\n",
       " 'loc_start',\n",
       " 'org',\n",
       " 'org_cont',\n",
       " 'org_end',\n",
       " 'org_start',\n",
       " 'per',\n",
       " 'per_cont',\n",
       " 'per_end',\n",
       " 'per_start']"
      ]
     },
     "execution_count": 14,
     "metadata": {},
     "output_type": "execute_result"
    }
   ],
   "source": [
    "all_frame = data_frame.append( test_frame )\n",
    "all_data = all_frame.drop('Tag', axis=1)\n",
    "vector_handle = DictVectorizer(sparse=False)\n",
    "all_data = vector_handle.fit_transform(all_data.to_dict('records'))\n",
    "all_value = all_frame.Tag.values\n",
    "size_of_test = test_frame.shape[0]\n",
    "print( \"Propotional of test is \" + str( size_of_test ) )\n",
    "\n",
    "classes = np.unique( all_value )\n",
    "classes = classes.tolist()\n",
    "new_classes = classes.copy()\n",
    "new_classes.remove('O')\n",
    "new_classes"
   ]
  },
  {
   "cell_type": "code",
   "execution_count": null,
   "metadata": {},
   "outputs": [],
   "source": [
    "X_train, X_test, y_train, y_test = train_test_split(all_data, \n",
    "        all_value, \n",
    "        test_size = size_of_test, \n",
    "        shuffle = False )"
   ]
  },
  {
   "cell_type": "code",
   "execution_count": null,
   "metadata": {},
   "outputs": [],
   "source": [
    "# Use Perceptron # the best from three model\n",
    "per = Perceptron(verbose=10, n_jobs=-1, max_iter=5)\n",
    "per.partial_fit(X_train, y_train, classes)"
   ]
  },
  {
   "cell_type": "code",
   "execution_count": null,
   "metadata": {},
   "outputs": [],
   "source": [
    "print(classification_report(y_pred=per.predict(X_test), \n",
    "                            y_true=y_test, labels=new_classes))"
   ]
  },
  {
   "cell_type": "code",
   "execution_count": null,
   "metadata": {},
   "outputs": [],
   "source": [
    "# Use Passive Aggressive Classifier # Not work\n",
    "# pa =PassiveAggressiveClassifier()\n",
    "# pa.partial_fit(X_train, y_train, classes)"
   ]
  },
  {
   "cell_type": "code",
   "execution_count": null,
   "metadata": {},
   "outputs": [],
   "source": [
    "#print(classification_report(y_pred=pa.predict(X_test),\n",
    "                            #y_true=y_test, labels=new_classes))"
   ]
  },
  {
   "cell_type": "code",
   "execution_count": null,
   "metadata": {},
   "outputs": [],
   "source": [
    "# use naive bayes # NOT WORK\n",
    "# nb = MultinomialNB(alpha=0.01)\n",
    "# nb.partial_fit(X_train, y_train, classes)"
   ]
  },
  {
   "cell_type": "code",
   "execution_count": null,
   "metadata": {},
   "outputs": [],
   "source": [
    "#print(classification_report(y_pred=nb.predict(X_test), \n",
    "                            #y_true=y_test, labels = new_classes))"
   ]
  }
 ],
 "metadata": {
  "kernelspec": {
   "display_name": "Python 3",
   "language": "python",
   "name": "python3"
  },
  "language_info": {
   "codemirror_mode": {
    "name": "ipython",
    "version": 3
   },
   "file_extension": ".py",
   "mimetype": "text/x-python",
   "name": "python",
   "nbconvert_exporter": "python",
   "pygments_lexer": "ipython3",
   "version": "3.6.8"
  }
 },
 "nbformat": 4,
 "nbformat_minor": 2
}
